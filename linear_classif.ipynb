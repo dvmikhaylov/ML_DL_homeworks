{
  "nbformat": 4,
  "nbformat_minor": 0,
  "metadata": {
    "colab": {
      "provenance": []
    },
    "kernelspec": {
      "name": "python3",
      "display_name": "Python 3"
    },
    "language_info": {
      "name": "python"
    }
  },
  "cells": [
    {
      "cell_type": "markdown",
      "source": [
        "#**Машинное обучение ИБ-2024**\n",
        "\n",
        "#**Домашнее задание 2.**\n",
        "#Классификация, KNN, LogReg, SVC."
      ],
      "metadata": {
        "id": "udk8HMvTGTcw"
      }
    },
    {
      "cell_type": "code",
      "source": [
        "from typing import Tuple, List\n",
        "\n",
        "import matplotlib.pyplot as plt\n",
        "import numpy as np\n",
        "import pandas as pd\n",
        "import seaborn as sns\n",
        "%matplotlib inline\n",
        "\n",
        "sns.set(style=\"darkgrid\")"
      ],
      "metadata": {
        "id": "3SlSvjUyIx6P"
      },
      "execution_count": 2,
      "outputs": []
    },
    {
      "cell_type": "markdown",
      "source": [
        "## **Теоретическая Часть**"
      ],
      "metadata": {
        "id": "anNYyOmryCU-"
      }
    },
    {
      "cell_type": "markdown",
      "source": [
        "Мы рассматриваем задачу бинарной классификации. Для прогнозирования мы хотели бы использовать модель логистической регрессии. Для регуляризации мы добавляем комбинацию штрафов в размере $l_2$ и $l_1$ (Elastic Net).\n",
        "\n",
        "Каждый объект в обучающем наборе данных индексируется с помощью $i$ и описывается парой: объекты $x_i\\in\\mathbb{R}^{K}$ и двоичные метки $y_i$. Модель параметризуется со смещением $w_0\\in\\mathbb{R}$ и весами $w\\in\\mathbb{R}^K$.\n",
        "\n",
        "Задача оптимизации в отношении $w_0, w$ заключается в следующем (Elastic Net Loss):\n",
        "\n",
        "$$L(w, w_0) = \\frac{1}{N} \\sum_{i=1}^N \\ln(1+\\exp(-y_i(w^\\top x_i+w_0))) + \\gamma \\|w\\|_1 + \\beta \\|w\\|_2^2$$.\n",
        "\n"
      ],
      "metadata": {
        "id": "gOsiAL0yHPZc"
      }
    },
    {
      "cell_type": "markdown",
      "source": [
        "Градиенты функции потерь логистической регрессии представлены ниже:"
      ],
      "metadata": {
        "id": "VDvxlzjaHtBv"
      }
    },
    {
      "cell_type": "markdown",
      "source": [
        "$$dL(w, w_0)/ dw = -\\frac{1}{N}  \\frac{X*y^\\top}{1 + \\exp(y (Xw+w_0)))} + \\gamma * sign(w) + 2 * beta * w$$\n",
        "\n",
        "$$dL(w, w_0)/ dw_0 = -\\frac{1}{N}  \\frac{y}{1 + \\exp(y*(Xw+w_0)))}$$"
      ],
      "metadata": {
        "id": "PeDXXb9kHqiE"
      }
    },
    {
      "cell_type": "markdown",
      "source": [
        "#### 1. [0.5 Балл] Реализуйте функцию, выдающий значение функции потерь логичтической регрессии:"
      ],
      "metadata": {
        "id": "StAKNPmaIj5C"
      }
    },
    {
      "cell_type": "code",
      "execution_count": 3,
      "metadata": {
        "id": "_z1jsC30GSii"
      },
      "outputs": [],
      "source": [
        "def loss(X, y, w: List[float], w0: float, gamma=1., beta=1.) -> float:\n",
        "  pred = w.T*X + w0\n",
        "  loss_funk = np.log(1+ np.exp(-y[:,None] * pred))\n",
        "  loss_res = loss_funk/X.shape[0] + gamma*np.abs(w).sum() + beta*(((np.array(w)**2).sum())**0.5)\n",
        "  return loss_res.sum()"
      ]
    },
    {
      "cell_type": "markdown",
      "source": [
        "#### 2. [0.5 Балл] Реализуйте функцию, которая будет возвращать градиенты весов вашей модели Логистической регрессии:"
      ],
      "metadata": {
        "id": "WIlZHGAuIqEP"
      }
    },
    {
      "cell_type": "code",
      "source": [
        "def get_grad(X, y, w: List[float], w0: float, gamma=1., beta=1.) -> Tuple[List[float], float]:\n",
        "    '''\n",
        "    :param X: np.ndarray of shape (n_objects, n_features) -- matrix objects-features\n",
        "    :param y: np.ndarray of shape (n_objects,) -- vector of the correct answers\n",
        "    :param w: np.ndarray of shape (n_feratures,) -- the weights\n",
        "    :param w0: intercept\n",
        "    :param gamma: penalty hyperparameter of L1-regularization\n",
        "    :param beta: penalty hyperparameter of L2-regularization\n",
        "\n",
        "    '''\n",
        "\n",
        "    sigmoid = 1/(1 + np.exp(y * (X.dot(w)+w0)))\n",
        "    grad_weights = (- X*y[:,None] * sigmoid[:,None] /X.shape[0]).sum(axis=0) + gamma*np.sign(w) + 2*beta*w\n",
        "    grad_bias = -(y* sigmoid).sum() /X.shape[0]\n",
        "\n",
        "    return grad_weights, grad_bias"
      ],
      "metadata": {
        "id": "p7Pg4o4_IpFs"
      },
      "execution_count": 4,
      "outputs": []
    },
    {
      "cell_type": "code",
      "source": [
        "np.random.seed(42)\n",
        "X = np.random.multivariate_normal(np.arange(5), np.eye(5), size=10)\n",
        "y = np.random.binomial(1, 0.42, size=10)\n",
        "w, w0 = np.random.normal(size=5), np.random.normal()\n",
        "\n",
        "grad_w, grad_w0 = get_grad(X, y, w, w0)\n",
        "print(grad_w, grad_w0)\n",
        "assert(np.allclose(grad_w,\n",
        "                   [-2.73262076, -1.87176281, 1.30051144, 2.53598941, -2.71198109],\n",
        "                   rtol=1e-1) & \\\n",
        "       np.allclose(grad_w0,\n",
        "                   -0.2078231418067844,\n",
        "                   rtol=1e-1)\n",
        ")"
      ],
      "metadata": {
        "id": "Q9SndxzbI8yy",
        "colab": {
          "base_uri": "https://localhost:8080/"
        },
        "outputId": "7db89047-d3f6-4c65-8c62-5e6132a245b1"
      },
      "execution_count": 5,
      "outputs": [
        {
          "output_type": "stream",
          "name": "stdout",
          "text": [
            "[-2.73262181 -1.87176392  1.30051023  2.53598816 -2.71198278] -0.20782319347690742\n"
          ]
        }
      ]
    },
    {
      "cell_type": "markdown",
      "source": [
        "####  3. [1 Балл]  Реализуйте класс для модели логистической регрессии, используя выше написанные функции:"
      ],
      "metadata": {
        "id": "3gINHTOgJaS7"
      }
    },
    {
      "cell_type": "markdown",
      "source": [
        "Модель должна обучаться методом SGD."
      ],
      "metadata": {
        "id": "Xo-IJWGTDUQH"
      }
    },
    {
      "cell_type": "code",
      "source": [
        "from sklearn.base import BaseEstimator, ClassifierMixin\n",
        "from sklearn.metrics import roc_curve\n",
        "from sklearn.utils import shuffle"
      ],
      "metadata": {
        "id": "FfwNPBafJSVT"
      },
      "execution_count": 6,
      "outputs": []
    },
    {
      "cell_type": "code",
      "source": [
        "class Logit(BaseEstimator, ClassifierMixin):\n",
        "    def __init__(self, beta=1.0, gamma=1.0, lr=1e-2, tolerance=1e-8, max_iter=1000, random_state=42, batch_size=128, epoch=100):\n",
        "        '''\n",
        "        betta: penalty hyperparameter of L2-regularization\n",
        "        gamma: penalty hyperparameter of L1-regularization\n",
        "        tolerance: minimal allowed movement in each iteration\n",
        "        lr: determines the step size at each iteration\n",
        "        max_iter: maximum number of iterations taken for the solvers to converge\n",
        "\n",
        "        '''\n",
        "        self.beta = beta\n",
        "        self.gamma = gamma\n",
        "        self.lr = lr\n",
        "        self.tolerance = tolerance\n",
        "        self.max_iter = max_iter\n",
        "        self.random_state = random_state\n",
        "        self.batch_size = batch_size\n",
        "        self.epochs= epoch\n",
        "\n",
        "        self.losses = []\n",
        "        self.weights = np.array([None])\n",
        "        self.bias = np.array([None])\n",
        "\n",
        "    def fit(self, X, y):\n",
        "        np.random.seed(self.random_state)\n",
        "        if (self.weights == None).all():\n",
        "          self.weights = np.random.randn(X.shape[1])\n",
        "        if (self.bias == None).all():\n",
        "          self.bias = np.random.rand()\n",
        "\n",
        "        iter = 0\n",
        "        for epoch in range(self.epochs):\n",
        "          X, y = shuffle(X, y)\n",
        "\n",
        "          for batch in range(self.batch_size, X.shape[0], self.batch_size):\n",
        "            iter += 1\n",
        "            if iter%200 == 0:\n",
        "              self.lr = self.lr *0.8\n",
        "            X_batch = X[batch - self.batch_size: batch]\n",
        "            y_batch = y[batch - self.batch_size: batch]\n",
        "            self.losses.append(loss(X_batch, y_batch, self.weights, self.bias, self.gamma, self.beta))\n",
        "            grad_weights, grad_bias = get_grad(X_batch, y_batch, self.weights, self.bias, self.gamma, self.beta)\n",
        "\n",
        "            self.weights -=self.lr * grad_weights\n",
        "            self.bias -= self.lr * grad_bias\n",
        "\n",
        "            if (iter==self.max_iter) or (np.abs(grad_weights).max() <self.tolerance):\n",
        "              return self\n",
        "\n",
        "        return self\n",
        "\n",
        "    def predict(self, X):\n",
        "        '''\n",
        "        Function that returns the vector of predicted labels for each object from X\n",
        "\n",
        "        '''\n",
        "        return ((self.predict_proba(X)>0.5) - 0.5) * 2\n",
        "\n",
        "\n",
        "    def predict_proba(self, X):\n",
        "        '''\n",
        "        Function that estimates probabilities\n",
        "\n",
        "        '''\n",
        "        pred = X.dot(self.weights) + self.bias\n",
        "        proba = 1 / (1 + np.exp(-pred))\n",
        "        return proba"
      ],
      "metadata": {
        "id": "43z5BoIRJjV9"
      },
      "execution_count": 7,
      "outputs": []
    },
    {
      "cell_type": "code",
      "source": [
        "# этот код менять не надо!\n",
        "from sklearn.datasets import make_classification\n",
        "X, y = make_classification(n_samples=1800, n_features=2, n_redundant=0, n_informative=2,\n",
        "                               random_state=42, n_clusters_per_class=1)"
      ],
      "metadata": {
        "id": "Y0dzDEMFJmR3"
      },
      "execution_count": 8,
      "outputs": []
    },
    {
      "cell_type": "markdown",
      "source": [
        "####  4. [0.5 Балл]  Реализуйте функцию, которая отрисовывает объекты вашего датасета, их метки и разделяющую гиперплоскость, полученную от Логистической регрессии (пример того, что должно получиться ниже):"
      ],
      "metadata": {
        "id": "fedP3pyAs9Xk"
      }
    },
    {
      "cell_type": "code",
      "source": [
        "def plot_decision_boundary(model, X, y):\n",
        "    first_class = X[y==1]\n",
        "    x_first, y_first = first_class.T\n",
        "    second_class = X[y!=1]\n",
        "    x_second, y_second = second_class.T\n",
        "\n",
        "    plt.scatter(x_first, y_first, c='#e377c2')\n",
        "    plt.scatter(x_second, y_second, c = '#9467bd')\n",
        "\n",
        "    x_line = np.arange(X.T[0].min(), X.T[0].max(), 2)\n",
        "    k = model.weights\n",
        "    b = model.bias\n",
        "    y_line = (-x_line*k[0] - b)/k[1]\n",
        "    plt.plot(x_line, y_line)\n"
      ],
      "metadata": {
        "id": "LVMUvlkpJpvu"
      },
      "execution_count": 9,
      "outputs": []
    },
    {
      "cell_type": "code",
      "source": [
        "model = Logit(0, 0, epoch= 200, max_iter=10000)\n",
        "y[y == 0] = -1\n",
        "model.fit(X, y)\n",
        "plot_decision_boundary(model, X, y)"
      ],
      "metadata": {
        "id": "PISzKE_xJsZh",
        "colab": {
          "base_uri": "https://localhost:8080/",
          "height": 436
        },
        "outputId": "233b70dd-fc6b-44c1-e3da-86f50cecf755"
      },
      "execution_count": 10,
      "outputs": [
        {
          "output_type": "display_data",
          "data": {
            "text/plain": [
              "<Figure size 640x480 with 1 Axes>"
            ],
            "image/png": "[encoded data removed]"
          },
          "metadata": {}
        }
      ]
    },
    {
      "cell_type": "markdown",
      "source": [
        "#### 5. [0.5 Балл] Для предыдущей задачи отобразите на графике, как изменяется значение функция потерь от номера итерации."
      ],
      "metadata": {
        "id": "4lyS4dNXPYr1"
      }
    },
    {
      "cell_type": "code",
      "source": [
        "def plot_loss_history(model):\n",
        "    losses = model.losses\n",
        "    plt.plot(np.arange(1, len(losses)+1), losses)\n"
      ],
      "metadata": {
        "id": "aTj-XMOvZ2YG"
      },
      "execution_count": 11,
      "outputs": []
    },
    {
      "cell_type": "code",
      "source": [
        "plot_loss_history(model)"
      ],
      "metadata": {
        "id": "SJeDlYsJt8W0",
        "colab": {
          "base_uri": "https://localhost:8080/",
          "height": 434
        },
        "outputId": "a37db51a-ac4d-45d6-dda8-2bda7b5736ce"
      },
      "execution_count": 12,
      "outputs": [
        {
          "output_type": "display_data",
          "data": {
            "text/plain": [
              "<Figure size 640x480 with 1 Axes>"
            ],
            "image/png": "[encoded data removed]"
          },
          "metadata": {}
        }
      ]
    },
    {
      "cell_type": "markdown",
      "source": [
        "#### 6. [2 Балл] Для данных, на которых тестировали модель Логистической регрессии, заиспользуйте модель SVC из библиотеки sklearn. Попробуйте различные ядра (kernel) и различные коэфициенты C. Посмотрите на метрики, которые мы обсуждали на занятии (Acc, Precision, Recall, AUC-ROC, F1-Score)."
      ],
      "metadata": {
        "id": "3zHxhSSnt7Iw"
      }
    },
    {
      "cell_type": "code",
      "source": [
        "from sklearn.svm import SVC\n",
        "from sklearn.model_selection import GridSearchCV\n",
        "\n",
        "parameters = {'kernel':('linear', 'rbf'), 'C':np.logspace(-1,2,4)}\n",
        "metrics = [\n",
        "    'accuracy',\n",
        "    'precision',\n",
        "    'recall',\n",
        "    'roc_auc',\n",
        "    'f1'\n",
        "]\n",
        "clf = GridSearchCV(SVC(), parameters, scoring=metrics, refit='roc_auc', cv=5)\n",
        "clf.fit(X, y)\n",
        "results = {x: clf.cv_results_[f'mean_test_{x}'] for x in metrics}\n",
        "for i in results.keys():\n",
        "  plt.plot(range(len(results[i])), list(results[i]), label=str(i))\n",
        "\n",
        "\n",
        "plt.legend()\n",
        "plt.show()"
      ],
      "metadata": {
        "id": "qpwzcThrvCyU",
        "colab": {
          "base_uri": "https://localhost:8080/",
          "height": 434
        },
        "outputId": "82c90642-39e2-436a-927b-12761c3e2053"
      },
      "execution_count": 13,
      "outputs": [
        {
          "output_type": "display_data",
          "data": {
            "text/plain": [
              "<Figure size 640x480 with 1 Axes>"
            ],
            "image/png": "[encoded data removed]"
          },
          "metadata": {}
        }
      ]
    },
    {
      "cell_type": "code",
      "source": [
        "clf.best_params_"
      ],
      "metadata": {
        "id": "Fh_69UDSeC3s",
        "colab": {
          "base_uri": "https://localhost:8080/"
        },
        "outputId": "2b411e15-6db8-488a-ad00-b0f64a1a9f2c"
      },
      "execution_count": 14,
      "outputs": [
        {
          "output_type": "execute_result",
          "data": {
            "text/plain": [
              "{'C': 1.0, 'kernel': 'rbf'}"
            ]
          },
          "metadata": {},
          "execution_count": 14
        }
      ]
    },
    {
      "cell_type": "markdown",
      "source": [
        "#### 7. [2 Балл] Реализуйте класс KNNClassifier, который должен реализовывать классификацию путем нахождения k ближайших соседей. В методе predict_proba Вам необходимо выдавать вектор вероятностей для каждого объекта, который означает, что объект является экземпляром i-го класса с p_i вероятностью. Протестируйте Ваш класс на данных, сгенерированных выше, посмотрите на метрики (Acc, Precision, Recall, AUC-ROC, F1-Score)."
      ],
      "metadata": {
        "id": "tAyn5WAYvefO"
      }
    },
    {
      "cell_type": "code",
      "source": [
        "from sklearn.metrics.pairwise import euclidean_distances, cosine_distances\n",
        "class KNNClassifier(BaseEstimator, ClassifierMixin):\n",
        "    def __init__(self, n_neighbors=5, metric_dist='euclidean', targets=None):\n",
        "      self.n_neighbors = n_neighbors\n",
        "\n",
        "      self.metrics_for_knn  = {\n",
        "          'euclidean': euclidean_distances,\n",
        "          'cosine': cosine_distances\n",
        "      }\n",
        "      self.metric_dist = metric_dist\n",
        "\n",
        "      self.X = 0\n",
        "      self.y = 0\n",
        "      self.targets = targets\n",
        "\n",
        "    def fit(self, X, y):\n",
        "      self.X = X\n",
        "      self.y = y\n",
        "      if self.targets==None:\n",
        "        self.targets = np.unique(y)\n",
        "\n",
        "    def predict(self, X):\n",
        "      return self.targets[np.argmax(self.predict_proba(X),axis=1)]\n",
        "\n",
        "    def predict_proba(self, X):\n",
        "      rasstoyanie = self.metrics_for_knn[self.metric_dist](self.X, X)\n",
        "      blizhayshie = np.argsort(rasstoyanie, axis =0).T[:,:self.n_neighbors]\n",
        "      means_bl = self.y[blizhayshie]\n",
        "      result = np.zeros((X.shape[0], self.targets.shape[0]))\n",
        "      for i in range(self.targets.shape[0]):\n",
        "        result[:,i] += (means_bl==self.targets[i]).sum(axis=1) #сложность константная (нестрашно)\n",
        "      return result/self.n_neighbors"
      ],
      "metadata": {
        "id": "eFNJLQ_Vv4dU"
      },
      "execution_count": 15,
      "outputs": []
    },
    {
      "cell_type": "code",
      "source": [
        "from sklearn.metrics import accuracy_score,  precision_score, recall_score, roc_auc_score, f1_score\n",
        "\n",
        "model = KNNClassifier()\n",
        "X, y = shuffle(X, y)\n",
        "split = int(X.shape[0]*0.8)\n",
        "\n",
        "X_train, y_train = X[:split], y[:split]\n",
        "X_test, y_test = X[split:], y[split:]\n",
        "\n",
        "model.fit(X_train, y_train)\n",
        "prediction = model.predict(X_test)\n",
        "\n",
        "metrics = {\n",
        "    'accuracy': accuracy_score,\n",
        "    'precision': precision_score,\n",
        "    'recall': recall_score,\n",
        "    'roc_auc':roc_auc_score,\n",
        "    'f1':f1_score\n",
        "}\n",
        "\n",
        "for metr in metrics:\n",
        "  print(f'{metr}: {metrics[metr](y_test, prediction)}')"
      ],
      "metadata": {
        "id": "3zPmc5X57oC5",
        "colab": {
          "base_uri": "https://localhost:8080/"
        },
        "outputId": "4f98bb93-c8cb-4d6e-a029-c8d46e821fab"
      },
      "execution_count": 16,
      "outputs": [
        {
          "output_type": "stream",
          "name": "stdout",
          "text": [
            "accuracy: 0.9972222222222222\n",
            "precision: 0.9940476190476191\n",
            "recall: 1.0\n",
            "roc_auc: 0.9974093264248705\n",
            "f1: 0.9970149253731343\n"
          ]
        }
      ]
    },
    {
      "cell_type": "markdown",
      "source": [
        "\n",
        "## **Практическая часть**"
      ],
      "metadata": {
        "id": "RPABb_kMysd6"
      }
    },
    {
      "cell_type": "markdown",
      "source": [
        "В этом задании мы будем работать с Датасетом Fashion Mnist. Это датасет, который представляет изображения одного канала с различными типами одежды. Вам необходимо провести полный пайплайн обучения моделей (KNN и Logreg), которые вы можете импортировать из библиотеки sklearn."
      ],
      "metadata": {
        "id": "q8vRW2QayxIX"
      }
    },
    {
      "cell_type": "markdown",
      "source": [
        "#### 8. [0 Балл] Импортируйте датафрейм из csv файла. Поделите выборку следующим образом - :50000 (Train) и 50000: (Test)."
      ],
      "metadata": {
        "id": "BePXBACs0Z2F"
      }
    },
    {
      "cell_type": "code",
      "source": [
        "from google.colab import drive\n",
        "drive.mount('/content/drive')"
      ],
      "metadata": {
        "id": "iFm-jku9h-mg",
        "colab": {
          "base_uri": "https://localhost:8080/"
        },
        "outputId": "893c8e66-6c44-4a11-c1f7-e53a556529bf"
      },
      "execution_count": 17,
      "outputs": [
        {
          "output_type": "stream",
          "name": "stdout",
          "text": [
            "Drive already mounted at /content/drive; to attempt to forcibly remount, call drive.mount(\"/content/drive\", force_remount=True).\n"
          ]
        }
      ]
    },
    {
      "cell_type": "code",
      "source": [
        "df = pd.read_csv('/content/drive/MyDrive/DZ2.csv')\n",
        "df.head(5)"
      ],
      "metadata": {
        "id": "Elrow43kywfP",
        "colab": {
          "base_uri": "https://localhost:8080/",
          "height": 256
        },
        "outputId": "fe0b5b39-b097-4414-c263-352e7140f18e"
      },
      "execution_count": 18,
      "outputs": [
        {
          "output_type": "execute_result",
          "data": {
            "text/plain": [
              "   Id  Category  Pixel000  Pixel001  Pixel002  Pixel003  Pixel004  Pixel005  \\\n",
              "0   0         2         0         0         0         0         0         0   \n",
              "1   1         9         0         0         0         0         0         0   \n",
              "2   2         6         0         0         0         0         0         0   \n",
              "3   3         0         0         0         0         1         2         0   \n",
              "4   4         3         0         0         0         0         0         0   \n",
              "\n",
              "   Pixel006  Pixel007  ...  Pixel774  Pixel775  Pixel776  Pixel777  Pixel778  \\\n",
              "0         0         0  ...         0         0         0         0         0   \n",
              "1         0         0  ...         0         0         0         0         0   \n",
              "2         0         5  ...         0         0         0        30        43   \n",
              "3         0         0  ...         3         0         0         0         0   \n",
              "4         0         0  ...         0         0         0         0         0   \n",
              "\n",
              "   Pixel779  Pixel780  Pixel781  Pixel782  Pixel783  \n",
              "0         0         0         0         0         0  \n",
              "1         0         0         0         0         0  \n",
              "2         0         0         0         0         0  \n",
              "3         1         0         0         0         0  \n",
              "4         0         0         0         0         0  \n",
              "\n",
              "[5 rows x 786 columns]"
            ],
            "text/html": [
              "\n",
              "  <div id=\"df-9d2571c7-b906-4fee-a540-f685d33e0469\" class=\"colab-df-container\">\n",
              "    <div>\n",
              "<style scoped>\n",
              "    .dataframe tbody tr th:only-of-type {\n",
              "        vertical-align: middle;\n",
              "    }\n",
              "\n",
              "    .dataframe tbody tr th {\n",
              "        vertical-align: top;\n",
              "    }\n",
              "\n",
              "    .dataframe thead th {\n",
              "        text-align: right;\n",
              "    }\n",
              "</style>\n",
              "<table border=\"1\" class=\"dataframe\">\n",
              "  <thead>\n",
              "    <tr style=\"text-align: right;\">\n",
              "      <th></th>\n",
              "      <th>Id</th>\n",
              "      <th>Category</th>\n",
              "      <th>Pixel000</th>\n",
              "      <th>Pixel001</th>\n",
              "      <th>Pixel002</th>\n",
              "      <th>Pixel003</th>\n",
              "      <th>Pixel004</th>\n",
              "      <th>Pixel005</th>\n",
              "      <th>Pixel006</th>\n",
              "      <th>Pixel007</th>\n",
              "      <th>...</th>\n",
              "      <th>Pixel774</th>\n",
              "      <th>Pixel775</th>\n",
              "      <th>Pixel776</th>\n",
              "      <th>Pixel777</th>\n",
              "      <th>Pixel778</th>\n",
              "      <th>Pixel779</th>\n",
              "      <th>Pixel780</th>\n",
              "      <th>Pixel781</th>\n",
              "      <th>Pixel782</th>\n",
              "      <th>Pixel783</th>\n",
              "    </tr>\n",
              "  </thead>\n",
              "  <tbody>\n",
              "    <tr>\n",
              "      <th>0</th>\n",
              "      <td>0</td>\n",
              "      <td>2</td>\n",
              "      <td>0</td>\n",
              "      <td>0</td>\n",
              "      <td>0</td>\n",
              "      <td>0</td>\n",
              "      <td>0</td>\n",
              "      <td>0</td>\n",
              "      <td>0</td>\n",
              "      <td>0</td>\n",
              "      <td>...</td>\n",
              "      <td>0</td>\n",
              "      <td>0</td>\n",
              "      <td>0</td>\n",
              "      <td>0</td>\n",
              "      <td>0</td>\n",
              "      <td>0</td>\n",
              "      <td>0</td>\n",
              "      <td>0</td>\n",
              "      <td>0</td>\n",
              "      <td>0</td>\n",
              "    </tr>\n",
              "    <tr>\n",
              "      <th>1</th>\n",
              "      <td>1</td>\n",
              "      <td>9</td>\n",
              "      <td>0</td>\n",
              "      <td>0</td>\n",
              "      <td>0</td>\n",
              "      <td>0</td>\n",
              "      <td>0</td>\n",
              "      <td>0</td>\n",
              "      <td>0</td>\n",
              "      <td>0</td>\n",
              "      <td>...</td>\n",
              "      <td>0</td>\n",
              "      <td>0</td>\n",
              "      <td>0</td>\n",
              "      <td>0</td>\n",
              "      <td>0</td>\n",
              "      <td>0</td>\n",
              "      <td>0</td>\n",
              "      <td>0</td>\n",
              "      <td>0</td>\n",
              "      <td>0</td>\n",
              "    </tr>\n",
              "    <tr>\n",
              "      <th>2</th>\n",
              "      <td>2</td>\n",
              "      <td>6</td>\n",
              "      <td>0</td>\n",
              "      <td>0</td>\n",
              "      <td>0</td>\n",
              "      <td>0</td>\n",
              "      <td>0</td>\n",
              "      <td>0</td>\n",
              "      <td>0</td>\n",
              "      <td>5</td>\n",
              "      <td>...</td>\n",
              "      <td>0</td>\n",
              "      <td>0</td>\n",
              "      <td>0</td>\n",
              "      <td>30</td>\n",
              "      <td>43</td>\n",
              "      <td>0</td>\n",
              "      <td>0</td>\n",
              "      <td>0</td>\n",
              "      <td>0</td>\n",
              "      <td>0</td>\n",
              "    </tr>\n",
              "    <tr>\n",
              "      <th>3</th>\n",
              "      <td>3</td>\n",
              "      <td>0</td>\n",
              "      <td>0</td>\n",
              "      <td>0</td>\n",
              "      <td>0</td>\n",
              "      <td>1</td>\n",
              "      <td>2</td>\n",
              "      <td>0</td>\n",
              "      <td>0</td>\n",
              "      <td>0</td>\n",
              "      <td>...</td>\n",
              "      <td>3</td>\n",
              "      <td>0</td>\n",
              "      <td>0</td>\n",
              "      <td>0</td>\n",
              "      <td>0</td>\n",
              "      <td>1</td>\n",
              "      <td>0</td>\n",
              "      <td>0</td>\n",
              "      <td>0</td>\n",
              "      <td>0</td>\n",
              "    </tr>\n",
              "    <tr>\n",
              "      <th>4</th>\n",
              "      <td>4</td>\n",
              "      <td>3</td>\n",
              "      <td>0</td>\n",
              "      <td>0</td>\n",
              "      <td>0</td>\n",
              "      <td>0</td>\n",
              "      <td>0</td>\n",
              "      <td>0</td>\n",
              "      <td>0</td>\n",
              "      <td>0</td>\n",
              "      <td>...</td>\n",
              "      <td>0</td>\n",
              "      <td>0</td>\n",
              "      <td>0</td>\n",
              "      <td>0</td>\n",
              "      <td>0</td>\n",
              "      <td>0</td>\n",
              "      <td>0</td>\n",
              "      <td>0</td>\n",
              "      <td>0</td>\n",
              "      <td>0</td>\n",
              "    </tr>\n",
              "  </tbody>\n",
              "</table>\n",
              "<p>5 rows × 786 columns</p>\n",
              "</div>\n",
              "    <div class=\"colab-df-buttons\">\n",
              "\n",
              "  <div class=\"colab-df-container\">\n",
              "    <button class=\"colab-df-convert\" onclick=\"convertToInteractive('df-9d2571c7-b906-4fee-a540-f685d33e0469')\"\n",
              "            title=\"Convert this dataframe to an interactive table.\"\n",
              "            style=\"display:none;\">\n",
              "\n",
              "  <svg xmlns=\"http://www.w3.org/2000/svg\" height=\"24px\" viewBox=\"0 -960 960 960\">\n",
              "    <path d=\"M120-120v-720h720v720H120Zm60-500h600v-160H180v160Zm220 220h160v-160H400v160Zm0 220h160v-160H400v160ZM180-400h160v-160H180v160Zm440 0h160v-160H620v160ZM180-180h160v-160H180v160Zm440 0h160v-160H620v160Z\"/>\n",
              "  </svg>\n",
              "    </button>\n",
              "\n",
              "  <style>\n",
              "    .colab-df-container {\n",
              "      display:flex;\n",
              "      gap: 12px;\n",
              "    }\n",
              "\n",
              "    .colab-df-convert {\n",
              "      background-color: #E8F0FE;\n",
              "      border: none;\n",
              "      border-radius: 50%;\n",
              "      cursor: pointer;\n",
              "      display: none;\n",
              "      fill: #1967D2;\n",
              "      height: 32px;\n",
              "      padding: 0 0 0 0;\n",
              "      width: 32px;\n",
              "    }\n",
              "\n",
              "    .colab-df-convert:hover {\n",
              "      background-color: #E2EBFA;\n",
              "      box-shadow: 0px 1px 2px rgba(60, 64, 67, 0.3), 0px 1px 3px 1px rgba(60, 64, 67, 0.15);\n",
              "      fill: #174EA6;\n",
              "    }\n",
              "\n",
              "    .colab-df-buttons div {\n",
              "      margin-bottom: 4px;\n",
              "    }\n",
              "\n",
              "    [theme=dark] .colab-df-convert {\n",
              "      background-color: #3B4455;\n",
              "      fill: #D2E3FC;\n",
              "    }\n",
              "\n",
              "    [theme=dark] .colab-df-convert:hover {\n",
              "      background-color: #434B5C;\n",
              "      box-shadow: 0px 1px 3px 1px rgba(0, 0, 0, 0.15);\n",
              "      filter: drop-shadow(0px 1px 2px rgba(0, 0, 0, 0.3));\n",
              "      fill: #FFFFFF;\n",
              "    }\n",
              "  </style>\n",
              "\n",
              "    <script>\n",
              "      const buttonEl =\n",
              "        document.querySelector('#df-9d2571c7-b906-4fee-a540-f685d33e0469 button.colab-df-convert');\n",
              "      buttonEl.style.display =\n",
              "        google.colab.kernel.accessAllowed ? 'block' : 'none';\n",
              "\n",
              "      async function convertToInteractive(key) {\n",
              "        const element = document.querySelector('#df-9d2571c7-b906-4fee-a540-f685d33e0469');\n",
              "        const dataTable =\n",
              "          await google.colab.kernel.invokeFunction('convertToInteractive',\n",
              "                                                    [key], {});\n",
              "        if (!dataTable) return;\n",
              "\n",
              "        const docLinkHtml = 'Like what you see? Visit the ' +\n",
              "          '<a target=\"_blank\" href=https://colab.research.google.com/notebooks/data_table.ipynb>data table notebook</a>'\n",
              "          + ' to learn more about interactive tables.';\n",
              "        element.innerHTML = '';\n",
              "        dataTable['output_type'] = 'display_data';\n",
              "        await google.colab.output.renderOutput(dataTable, element);\n",
              "        const docLink = document.createElement('div');\n",
              "        docLink.innerHTML = docLinkHtml;\n",
              "        element.appendChild(docLink);\n",
              "      }\n",
              "    </script>\n",
              "  </div>\n",
              "\n",
              "\n",
              "<div id=\"df-ea370fc2-d227-43bc-a98d-5d6c7607d468\">\n",
              "  <button class=\"colab-df-quickchart\" onclick=\"quickchart('df-ea370fc2-d227-43bc-a98d-5d6c7607d468')\"\n",
              "            title=\"Suggest charts\"\n",
              "            style=\"display:none;\">\n",
              "\n",
              "<svg xmlns=\"http://www.w3.org/2000/svg\" height=\"24px\"viewBox=\"0 0 24 24\"\n",
              "     width=\"24px\">\n",
              "    <g>\n",
              "        <path d=\"M19 3H5c-1.1 0-2 .9-2 2v14c0 1.1.9 2 2 2h14c1.1 0 2-.9 2-2V5c0-1.1-.9-2-2-2zM9 17H7v-7h2v7zm4 0h-2V7h2v10zm4 0h-2v-4h2v4z\"/>\n",
              "    </g>\n",
              "</svg>\n",
              "  </button>\n",
              "\n",
              "<style>\n",
              "  .colab-df-quickchart {\n",
              "      --bg-color: #E8F0FE;\n",
              "      --fill-color: #1967D2;\n",
              "      --hover-bg-color: #E2EBFA;\n",
              "      --hover-fill-color: #174EA6;\n",
              "      --disabled-fill-color: #AAA;\n",
              "      --disabled-bg-color: #DDD;\n",
              "  }\n",
              "\n",
              "  [theme=dark] .colab-df-quickchart {\n",
              "      --bg-color: #3B4455;\n",
              "      --fill-color: #D2E3FC;\n",
              "      --hover-bg-color: #434B5C;\n",
              "      --hover-fill-color: #FFFFFF;\n",
              "      --disabled-bg-color: #3B4455;\n",
              "      --disabled-fill-color: #666;\n",
              "  }\n",
              "\n",
              "  .colab-df-quickchart {\n",
              "    background-color: var(--bg-color);\n",
              "    border: none;\n",
              "    border-radius: 50%;\n",
              "    cursor: pointer;\n",
              "    display: none;\n",
              "    fill: var(--fill-color);\n",
              "    height: 32px;\n",
              "    padding: 0;\n",
              "    width: 32px;\n",
              "  }\n",
              "\n",
              "  .colab-df-quickchart:hover {\n",
              "    background-color: var(--hover-bg-color);\n",
              "    box-shadow: 0 1px 2px rgba(60, 64, 67, 0.3), 0 1px 3px 1px rgba(60, 64, 67, 0.15);\n",
              "    fill: var(--button-hover-fill-color);\n",
              "  }\n",
              "\n",
              "  .colab-df-quickchart-complete:disabled,\n",
              "  .colab-df-quickchart-complete:disabled:hover {\n",
              "    background-color: var(--disabled-bg-color);\n",
              "    fill: var(--disabled-fill-color);\n",
              "    box-shadow: none;\n",
              "  }\n",
              "\n",
              "  .colab-df-spinner {\n",
              "    border: 2px solid var(--fill-color);\n",
              "    border-color: transparent;\n",
              "    border-bottom-color: var(--fill-color);\n",
              "    animation:\n",
              "      spin 1s steps(1) infinite;\n",
              "  }\n",
              "\n",
              "  @keyframes spin {\n",
              "    0% {\n",
              "      border-color: transparent;\n",
              "      border-bottom-color: var(--fill-color);\n",
              "      border-left-color: var(--fill-color);\n",
              "    }\n",
              "    20% {\n",
              "      border-color: transparent;\n",
              "      border-left-color: var(--fill-color);\n",
              "      border-top-color: var(--fill-color);\n",
              "    }\n",
              "    30% {\n",
              "      border-color: transparent;\n",
              "      border-left-color: var(--fill-color);\n",
              "      border-top-color: var(--fill-color);\n",
              "      border-right-color: var(--fill-color);\n",
              "    }\n",
              "    40% {\n",
              "      border-color: transparent;\n",
              "      border-right-color: var(--fill-color);\n",
              "      border-top-color: var(--fill-color);\n",
              "    }\n",
              "    60% {\n",
              "      border-color: transparent;\n",
              "      border-right-color: var(--fill-color);\n",
              "    }\n",
              "    80% {\n",
              "      border-color: transparent;\n",
              "      border-right-color: var(--fill-color);\n",
              "      border-bottom-color: var(--fill-color);\n",
              "    }\n",
              "    90% {\n",
              "      border-color: transparent;\n",
              "      border-bottom-color: var(--fill-color);\n",
              "    }\n",
              "  }\n",
              "</style>\n",
              "\n",
              "  <script>\n",
              "    async function quickchart(key) {\n",
              "      const quickchartButtonEl =\n",
              "        document.querySelector('#' + key + ' button');\n",
              "      quickchartButtonEl.disabled = true;  // To prevent multiple clicks.\n",
              "      quickchartButtonEl.classList.add('colab-df-spinner');\n",
              "      try {\n",
              "        const charts = await google.colab.kernel.invokeFunction(\n",
              "            'suggestCharts', [key], {});\n",
              "      } catch (error) {\n",
              "        console.error('Error during call to suggestCharts:', error);\n",
              "      }\n",
              "      quickchartButtonEl.classList.remove('colab-df-spinner');\n",
              "      quickchartButtonEl.classList.add('colab-df-quickchart-complete');\n",
              "    }\n",
              "    (() => {\n",
              "      let quickchartButtonEl =\n",
              "        document.querySelector('#df-ea370fc2-d227-43bc-a98d-5d6c7607d468 button');\n",
              "      quickchartButtonEl.style.display =\n",
              "        google.colab.kernel.accessAllowed ? 'block' : 'none';\n",
              "    })();\n",
              "  </script>\n",
              "</div>\n",
              "    </div>\n",
              "  </div>\n"
            ],
            "application/vnd.google.colaboratory.intrinsic+json": {
              "type": "dataframe",
              "variable_name": "df"
            }
          },
          "metadata": {},
          "execution_count": 18
        }
      ]
    },
    {
      "cell_type": "code",
      "source": [
        "target = 'Category'\n",
        "dont_need = 'Id'\n",
        "\n",
        "features = []\n",
        "for cat in df.columns:\n",
        "  if cat not in [target, dont_need]:\n",
        "    features.append(cat)\n",
        "\n",
        "X,y = df[features], df[target]\n",
        "X_train, y_train = X[:50000], y[:50000]\n",
        "X_test, y_test = X[50000:], y[50000:]"
      ],
      "metadata": {
        "id": "i98j4eUyiQ5-"
      },
      "execution_count": 19,
      "outputs": []
    },
    {
      "cell_type": "markdown",
      "source": [
        "#### 9. [0.5 Балл] Визуализируйте некоторые из объектов датасета. В колонках отображены яркости пикселей, которые представляют из себя изображения Fashion Mnist. С помощью matplotlib визуализируйте по одному представителю каждого класса."
      ],
      "metadata": {
        "id": "_3X27C9W8vyx"
      }
    },
    {
      "cell_type": "code",
      "source": [
        "categories = np.unique(y_train)\n",
        "fig, axs = plt.subplots(2,5)\n",
        "for i,cat in enumerate (categories):\n",
        "  axs[i//5, i%5].imshow(X_train [y_train.to_numpy()==i].iloc[0].to_numpy().reshape(28,28))\n",
        "  axs[i//5, i%5].set_title(f'class {cat}')"
      ],
      "metadata": {
        "id": "0lnhOXgFRARM",
        "colab": {
          "base_uri": "https://localhost:8080/",
          "height": 374
        },
        "outputId": "f4f9deae-200c-4f89-ee48-113237251878"
      },
      "execution_count": 20,
      "outputs": [
        {
          "output_type": "display_data",
          "data": {
            "text/plain": [
              "<Figure size 640x480 with 10 Axes>"
            ],
            "image/png": "[encoded data removed]"
          },
          "metadata": {}
        }
      ]
    },
    {
      "cell_type": "markdown",
      "source": [
        "#### 10. [0.5 Балл] Отнормируйте признаки в датасете, попробуйте два варианта StandartScaller и MinMaxScaller."
      ],
      "metadata": {
        "id": "xfdGxPq19ef0"
      }
    },
    {
      "cell_type": "code",
      "source": [
        "from sklearn.preprocessing import StandardScaler, MinMaxScaler\n",
        "\n",
        "stand_preprocessor = StandardScaler()\n",
        "min_max_preprocessor = MinMaxScaler()\n",
        "X_train_stand = stand_preprocessor.fit_transform(X_train)\n",
        "X_train_min_max = min_max_preprocessor.fit_transform(X_train)\n",
        "\n",
        "X_test_stand = stand_preprocessor.transform(X_test)\n",
        "X_test_min_max = min_max_preprocessor.transform(X_test)"
      ],
      "metadata": {
        "id": "TOpmPYll-Fu1"
      },
      "execution_count": 21,
      "outputs": []
    },
    {
      "cell_type": "markdown",
      "source": [
        "#### 10. [2 Балл] Проведите эксперименты: для моделей KNeighborsClassifier и LogisticRegression подберите гиперпараметры с помощью GridSerchCV (минимум 5 фолдов). Получите качество моделей на тестовой выборке. Основная метрика в данном задании будет accuracy. Сравните эти две модели. Какая модель показывает лучшее качество, предположите почему и напишите ответ.\n",
        "\n",
        "**NB!**: в задании нужно подбирать несколько гиперпараметров по сетке. Какие гиперпараметры подбирать - решаете Вы сами. Обязательно обоснуйте, почему и какие параметры Вы подбираете! Например, подбор только гиперпараметра C в LogisticRegression не будет засчитываться как решение данного задания! Попытайтесь серьезно отнестись к нему, будто вы за это получите зарплату 300к."
      ],
      "metadata": {
        "id": "0OMKYo3K-IQ2"
      }
    },
    {
      "cell_type": "markdown",
      "source": [
        "***Логистическая регрессия обученная на нормированных данных***"
      ],
      "metadata": {
        "id": "Cwuu0lb2zKjw"
      }
    },
    {
      "cell_type": "code",
      "source": [
        "from sklearn.multiclass import OneVsRestClassifier\n",
        "from sklearn.linear_model import LogisticRegression\n",
        "from sklearn.neighbors import KNeighborsClassifier"
      ],
      "metadata": {
        "id": "NpwBmx8-eAhe"
      },
      "execution_count": 22,
      "outputs": []
    },
    {
      "cell_type": "code",
      "source": [
        "logreg_params = [{\n",
        "    'penalty' : ['l2', 'l1'],  #l2 регуляризация , конечно, очень хороша, но мы работаем с картинками, и приемущество l1 которое может нам помочь - она зануляет признаки которые не имеют большого влияния (для картинок это хорошо формирует паттерны и мы видим что ищет модель, а это легко интерпритируемо)\n",
        "    'C': np.logspace(-1,0,2),  #классика\n",
        "}]\n",
        "clf_logreg = LogisticRegression(solver='saga',max_iter=30) #очень долго тренить с liblinear onevsall и saga с большим колличеством итераций тоже долго\n",
        "\n",
        "gs_cv_logreg = GridSearchCV( clf_logreg, param_grid=logreg_params, scoring='accuracy', cv=5)\n",
        "gs_cv_logreg.fit(X_train_stand, y_train)"
      ],
      "metadata": {
        "id": "9V50Z-d5_GFG",
        "colab": {
          "base_uri": "https://localhost:8080/",
          "height": 865
        },
        "outputId": "217ee28d-b3bb-46f4-9949-d4001a4e9f97",
        "collapsed": true
      },
      "execution_count": 24,
      "outputs": [
        {
          "output_type": "stream",
          "name": "stderr",
          "text": [
            "/usr/local/lib/python3.10/dist-packages/sklearn/linear_model/_sag.py:349: ConvergenceWarning: The max_iter was reached which means the coef_ did not converge\n",
            "  warnings.warn(\n",
            "/usr/local/lib/python3.10/dist-packages/sklearn/linear_model/_sag.py:349: ConvergenceWarning: The max_iter was reached which means the coef_ did not converge\n",
            "  warnings.warn(\n",
            "/usr/local/lib/python3.10/dist-packages/sklearn/linear_model/_sag.py:349: ConvergenceWarning: The max_iter was reached which means the coef_ did not converge\n",
            "  warnings.warn(\n",
            "/usr/local/lib/python3.10/dist-packages/sklearn/linear_model/_sag.py:349: ConvergenceWarning: The max_iter was reached which means the coef_ did not converge\n",
            "  warnings.warn(\n",
            "/usr/local/lib/python3.10/dist-packages/sklearn/linear_model/_sag.py:349: ConvergenceWarning: The max_iter was reached which means the coef_ did not converge\n",
            "  warnings.warn(\n",
            "/usr/local/lib/python3.10/dist-packages/sklearn/linear_model/_sag.py:349: ConvergenceWarning: The max_iter was reached which means the coef_ did not converge\n",
            "  warnings.warn(\n",
            "/usr/local/lib/python3.10/dist-packages/sklearn/linear_model/_sag.py:349: ConvergenceWarning: The max_iter was reached which means the coef_ did not converge\n",
            "  warnings.warn(\n",
            "/usr/local/lib/python3.10/dist-packages/sklearn/linear_model/_sag.py:349: ConvergenceWarning: The max_iter was reached which means the coef_ did not converge\n",
            "  warnings.warn(\n",
            "/usr/local/lib/python3.10/dist-packages/sklearn/linear_model/_sag.py:349: ConvergenceWarning: The max_iter was reached which means the coef_ did not converge\n",
            "  warnings.warn(\n",
            "/usr/local/lib/python3.10/dist-packages/sklearn/linear_model/_sag.py:349: ConvergenceWarning: The max_iter was reached which means the coef_ did not converge\n",
            "  warnings.warn(\n",
            "/usr/local/lib/python3.10/dist-packages/sklearn/linear_model/_sag.py:349: ConvergenceWarning: The max_iter was reached which means the coef_ did not converge\n",
            "  warnings.warn(\n",
            "/usr/local/lib/python3.10/dist-packages/sklearn/linear_model/_sag.py:349: ConvergenceWarning: The max_iter was reached which means the coef_ did not converge\n",
            "  warnings.warn(\n",
            "/usr/local/lib/python3.10/dist-packages/sklearn/linear_model/_sag.py:349: ConvergenceWarning: The max_iter was reached which means the coef_ did not converge\n",
            "  warnings.warn(\n",
            "/usr/local/lib/python3.10/dist-packages/sklearn/linear_model/_sag.py:349: ConvergenceWarning: The max_iter was reached which means the coef_ did not converge\n",
            "  warnings.warn(\n",
            "/usr/local/lib/python3.10/dist-packages/sklearn/linear_model/_sag.py:349: ConvergenceWarning: The max_iter was reached which means the coef_ did not converge\n",
            "  warnings.warn(\n",
            "/usr/local/lib/python3.10/dist-packages/sklearn/linear_model/_sag.py:349: ConvergenceWarning: The max_iter was reached which means the coef_ did not converge\n",
            "  warnings.warn(\n",
            "/usr/local/lib/python3.10/dist-packages/sklearn/linear_model/_sag.py:349: ConvergenceWarning: The max_iter was reached which means the coef_ did not converge\n",
            "  warnings.warn(\n",
            "/usr/local/lib/python3.10/dist-packages/sklearn/linear_model/_sag.py:349: ConvergenceWarning: The max_iter was reached which means the coef_ did not converge\n",
            "  warnings.warn(\n",
            "/usr/local/lib/python3.10/dist-packages/sklearn/linear_model/_sag.py:349: ConvergenceWarning: The max_iter was reached which means the coef_ did not converge\n",
            "  warnings.warn(\n",
            "/usr/local/lib/python3.10/dist-packages/sklearn/linear_model/_sag.py:349: ConvergenceWarning: The max_iter was reached which means the coef_ did not converge\n",
            "  warnings.warn(\n",
            "/usr/local/lib/python3.10/dist-packages/sklearn/linear_model/_sag.py:349: ConvergenceWarning: The max_iter was reached which means the coef_ did not converge\n",
            "  warnings.warn(\n"
          ]
        },
        {
          "output_type": "execute_result",
          "data": {
            "text/plain": [
              "GridSearchCV(cv=5, estimator=LogisticRegression(max_iter=30, solver='saga'),\n",
              "             param_grid=[{'C': array([0.1, 1. ]), 'penalty': ['l2', 'l1']}],\n",
              "             scoring='accuracy')"
            ],
            "text/html": [
              "<style>#sk-container-id-1 {\n",
              "  /* Definition of color scheme common for light and dark mode */\n",
              "  --sklearn-color-text: black;\n",
              "  --sklearn-color-line: gray;\n",
              "  /* Definition of color scheme for unfitted estimators */\n",
              "  --sklearn-color-unfitted-level-0: #fff5e6;\n",
              "  --sklearn-color-unfitted-level-1: #f6e4d2;\n",
              "  --sklearn-color-unfitted-level-2: #ffe0b3;\n",
              "  --sklearn-color-unfitted-level-3: chocolate;\n",
              "  /* Definition of color scheme for fitted estimators */\n",
              "  --sklearn-color-fitted-level-0: #f0f8ff;\n",
              "  --sklearn-color-fitted-level-1: #d4ebff;\n",
              "  --sklearn-color-fitted-level-2: #b3dbfd;\n",
              "  --sklearn-color-fitted-level-3: cornflowerblue;\n",
              "\n",
              "  /* Specific color for light theme */\n",
              "  --sklearn-color-text-on-default-background: var(--sg-text-color, var(--theme-code-foreground, var(--jp-content-font-color1, black)));\n",
              "  --sklearn-color-background: var(--sg-background-color, var(--theme-background, var(--jp-layout-color0, white)));\n",
              "  --sklearn-color-border-box: var(--sg-text-color, var(--theme-code-foreground, var(--jp-content-font-color1, black)));\n",
              "  --sklearn-color-icon: #696969;\n",
              "\n",
              "  @media (prefers-color-scheme: dark) {\n",
              "    /* Redefinition of color scheme for dark theme */\n",
              "    --sklearn-color-text-on-default-background: var(--sg-text-color, var(--theme-code-foreground, var(--jp-content-font-color1, white)));\n",
              "    --sklearn-color-background: var(--sg-background-color, var(--theme-background, var(--jp-layout-color0, #111)));\n",
              "    --sklearn-color-border-box: var(--sg-text-color, var(--theme-code-foreground, var(--jp-content-font-color1, white)));\n",
              "    --sklearn-color-icon: #878787;\n",
              "  }\n",
              "}\n",
              "\n",
              "#sk-container-id-1 {\n",
              "  color: var(--sklearn-color-text);\n",
              "}\n",
              "\n",
              "#sk-container-id-1 pre {\n",
              "  padding: 0;\n",
              "}\n",
              "\n",
              "#sk-container-id-1 input.sk-hidden--visually {\n",
              "  border: 0;\n",
              "  clip: rect(1px 1px 1px 1px);\n",
              "  clip: rect(1px, 1px, 1px, 1px);\n",
              "  height: 1px;\n",
              "  margin: -1px;\n",
              "  overflow: hidden;\n",
              "  padding: 0;\n",
              "  position: absolute;\n",
              "  width: 1px;\n",
              "}\n",
              "\n",
              "#sk-container-id-1 div.sk-dashed-wrapped {\n",
              "  border: 1px dashed var(--sklearn-color-line);\n",
              "  margin: 0 0.4em 0.5em 0.4em;\n",
              "  box-sizing: border-box;\n",
              "  padding-bottom: 0.4em;\n",
              "  background-color: var(--sklearn-color-background);\n",
              "}\n",
              "\n",
              "#sk-container-id-1 div.sk-container {\n",
              "  /* jupyter's `normalize.less` sets `[hidden] { display: none; }`\n",
              "     but bootstrap.min.css set `[hidden] { display: none !important; }`\n",
              "     so we also need the `!important` here to be able to override the\n",
              "     default hidden behavior on the sphinx rendered scikit-learn.org.\n",
              "     See: https://github.com/scikit-learn/scikit-learn/issues/21755 */\n",
              "  display: inline-block !important;\n",
              "  position: relative;\n",
              "}\n",
              "\n",
              "#sk-container-id-1 div.sk-text-repr-fallback {\n",
              "  display: none;\n",
              "}\n",
              "\n",
              "div.sk-parallel-item,\n",
              "div.sk-serial,\n",
              "div.sk-item {\n",
              "  /* draw centered vertical line to link estimators */\n",
              "  background-image: linear-gradient(var(--sklearn-color-text-on-default-background), var(--sklearn-color-text-on-default-background));\n",
              "  background-size: 2px 100%;\n",
              "  background-repeat: no-repeat;\n",
              "  background-position: center center;\n",
              "}\n",
              "\n",
              "/* Parallel-specific style estimator block */\n",
              "\n",
              "#sk-container-id-1 div.sk-parallel-item::after {\n",
              "  content: \"\";\n",
              "  width: 100%;\n",
              "  border-bottom: 2px solid var(--sklearn-color-text-on-default-background);\n",
              "  flex-grow: 1;\n",
              "}\n",
              "\n",
              "#sk-container-id-1 div.sk-parallel {\n",
              "  display: flex;\n",
              "  align-items: stretch;\n",
              "  justify-content: center;\n",
              "  background-color: var(--sklearn-color-background);\n",
              "  position: relative;\n",
              "}\n",
              "\n",
              "#sk-container-id-1 div.sk-parallel-item {\n",
              "  display: flex;\n",
              "  flex-direction: column;\n",
              "}\n",
              "\n",
              "#sk-container-id-1 div.sk-parallel-item:first-child::after {\n",
              "  align-self: flex-end;\n",
              "  width: 50%;\n",
              "}\n",
              "\n",
              "#sk-container-id-1 div.sk-parallel-item:last-child::after {\n",
              "  align-self: flex-start;\n",
              "  width: 50%;\n",
              "}\n",
              "\n",
              "#sk-container-id-1 div.sk-parallel-item:only-child::after {\n",
              "  width: 0;\n",
              "}\n",
              "\n",
              "/* Serial-specific style estimator block */\n",
              "\n",
              "#sk-container-id-1 div.sk-serial {\n",
              "  display: flex;\n",
              "  flex-direction: column;\n",
              "  align-items: center;\n",
              "  background-color: var(--sklearn-color-background);\n",
              "  padding-right: 1em;\n",
              "  padding-left: 1em;\n",
              "}\n",
              "\n",
              "\n",
              "/* Toggleable style: style used for estimator/Pipeline/ColumnTransformer box that is\n",
              "clickable and can be expanded/collapsed.\n",
              "- Pipeline and ColumnTransformer use this feature and define the default style\n",
              "- Estimators will overwrite some part of the style using the `sk-estimator` class\n",
              "*/\n",
              "\n",
              "/* Pipeline and ColumnTransformer style (default) */\n",
              "\n",
              "#sk-container-id-1 div.sk-toggleable {\n",
              "  /* Default theme specific background. It is overwritten whether we have a\n",
              "  specific estimator or a Pipeline/ColumnTransformer */\n",
              "  background-color: var(--sklearn-color-background);\n",
              "}\n",
              "\n",
              "/* Toggleable label */\n",
              "#sk-container-id-1 label.sk-toggleable__label {\n",
              "  cursor: pointer;\n",
              "  display: block;\n",
              "  width: 100%;\n",
              "  margin-bottom: 0;\n",
              "  padding: 0.5em;\n",
              "  box-sizing: border-box;\n",
              "  text-align: center;\n",
              "}\n",
              "\n",
              "#sk-container-id-1 label.sk-toggleable__label-arrow:before {\n",
              "  /* Arrow on the left of the label */\n",
              "  content: \"▸\";\n",
              "  float: left;\n",
              "  margin-right: 0.25em;\n",
              "  color: var(--sklearn-color-icon);\n",
              "}\n",
              "\n",
              "#sk-container-id-1 label.sk-toggleable__label-arrow:hover:before {\n",
              "  color: var(--sklearn-color-text);\n",
              "}\n",
              "\n",
              "/* Toggleable content - dropdown */\n",
              "\n",
              "#sk-container-id-1 div.sk-toggleable__content {\n",
              "  max-height: 0;\n",
              "  max-width: 0;\n",
              "  overflow: hidden;\n",
              "  text-align: left;\n",
              "  /* unfitted */\n",
              "  background-color: var(--sklearn-color-unfitted-level-0);\n",
              "}\n",
              "\n",
              "#sk-container-id-1 div.sk-toggleable__content.fitted {\n",
              "  /* fitted */\n",
              "  background-color: var(--sklearn-color-fitted-level-0);\n",
              "}\n",
              "\n",
              "#sk-container-id-1 div.sk-toggleable__content pre {\n",
              "  margin: 0.2em;\n",
              "  border-radius: 0.25em;\n",
              "  color: var(--sklearn-color-text);\n",
              "  /* unfitted */\n",
              "  background-color: var(--sklearn-color-unfitted-level-0);\n",
              "}\n",
              "\n",
              "#sk-container-id-1 div.sk-toggleable__content.fitted pre {\n",
              "  /* unfitted */\n",
              "  background-color: var(--sklearn-color-fitted-level-0);\n",
              "}\n",
              "\n",
              "#sk-container-id-1 input.sk-toggleable__control:checked~div.sk-toggleable__content {\n",
              "  /* Expand drop-down */\n",
              "  max-height: 200px;\n",
              "  max-width: 100%;\n",
              "  overflow: auto;\n",
              "}\n",
              "\n",
              "#sk-container-id-1 input.sk-toggleable__control:checked~label.sk-toggleable__label-arrow:before {\n",
              "  content: \"▾\";\n",
              "}\n",
              "\n",
              "/* Pipeline/ColumnTransformer-specific style */\n",
              "\n",
              "#sk-container-id-1 div.sk-label input.sk-toggleable__control:checked~label.sk-toggleable__label {\n",
              "  color: var(--sklearn-color-text);\n",
              "  background-color: var(--sklearn-color-unfitted-level-2);\n",
              "}\n",
              "\n",
              "#sk-container-id-1 div.sk-label.fitted input.sk-toggleable__control:checked~label.sk-toggleable__label {\n",
              "  background-color: var(--sklearn-color-fitted-level-2);\n",
              "}\n",
              "\n",
              "/* Estimator-specific style */\n",
              "\n",
              "/* Colorize estimator box */\n",
              "#sk-container-id-1 div.sk-estimator input.sk-toggleable__control:checked~label.sk-toggleable__label {\n",
              "  /* unfitted */\n",
              "  background-color: var(--sklearn-color-unfitted-level-2);\n",
              "}\n",
              "\n",
              "#sk-container-id-1 div.sk-estimator.fitted input.sk-toggleable__control:checked~label.sk-toggleable__label {\n",
              "  /* fitted */\n",
              "  background-color: var(--sklearn-color-fitted-level-2);\n",
              "}\n",
              "\n",
              "#sk-container-id-1 div.sk-label label.sk-toggleable__label,\n",
              "#sk-container-id-1 div.sk-label label {\n",
              "  /* The background is the default theme color */\n",
              "  color: var(--sklearn-color-text-on-default-background);\n",
              "}\n",
              "\n",
              "/* On hover, darken the color of the background */\n",
              "#sk-container-id-1 div.sk-label:hover label.sk-toggleable__label {\n",
              "  color: var(--sklearn-color-text);\n",
              "  background-color: var(--sklearn-color-unfitted-level-2);\n",
              "}\n",
              "\n",
              "/* Label box, darken color on hover, fitted */\n",
              "#sk-container-id-1 div.sk-label.fitted:hover label.sk-toggleable__label.fitted {\n",
              "  color: var(--sklearn-color-text);\n",
              "  background-color: var(--sklearn-color-fitted-level-2);\n",
              "}\n",
              "\n",
              "/* Estimator label */\n",
              "\n",
              "#sk-container-id-1 div.sk-label label {\n",
              "  font-family: monospace;\n",
              "  font-weight: bold;\n",
              "  display: inline-block;\n",
              "  line-height: 1.2em;\n",
              "}\n",
              "\n",
              "#sk-container-id-1 div.sk-label-container {\n",
              "  text-align: center;\n",
              "}\n",
              "\n",
              "/* Estimator-specific */\n",
              "#sk-container-id-1 div.sk-estimator {\n",
              "  font-family: monospace;\n",
              "  border: 1px dotted var(--sklearn-color-border-box);\n",
              "  border-radius: 0.25em;\n",
              "  box-sizing: border-box;\n",
              "  margin-bottom: 0.5em;\n",
              "  /* unfitted */\n",
              "  background-color: var(--sklearn-color-unfitted-level-0);\n",
              "}\n",
              "\n",
              "#sk-container-id-1 div.sk-estimator.fitted {\n",
              "  /* fitted */\n",
              "  background-color: var(--sklearn-color-fitted-level-0);\n",
              "}\n",
              "\n",
              "/* on hover */\n",
              "#sk-container-id-1 div.sk-estimator:hover {\n",
              "  /* unfitted */\n",
              "  background-color: var(--sklearn-color-unfitted-level-2);\n",
              "}\n",
              "\n",
              "#sk-container-id-1 div.sk-estimator.fitted:hover {\n",
              "  /* fitted */\n",
              "  background-color: var(--sklearn-color-fitted-level-2);\n",
              "}\n",
              "\n",
              "/* Specification for estimator info (e.g. \"i\" and \"?\") */\n",
              "\n",
              "/* Common style for \"i\" and \"?\" */\n",
              "\n",
              ".sk-estimator-doc-link,\n",
              "a:link.sk-estimator-doc-link,\n",
              "a:visited.sk-estimator-doc-link {\n",
              "  float: right;\n",
              "  font-size: smaller;\n",
              "  line-height: 1em;\n",
              "  font-family: monospace;\n",
              "  background-color: var(--sklearn-color-background);\n",
              "  border-radius: 1em;\n",
              "  height: 1em;\n",
              "  width: 1em;\n",
              "  text-decoration: none !important;\n",
              "  margin-left: 1ex;\n",
              "  /* unfitted */\n",
              "  border: var(--sklearn-color-unfitted-level-1) 1pt solid;\n",
              "  color: var(--sklearn-color-unfitted-level-1);\n",
              "}\n",
              "\n",
              ".sk-estimator-doc-link.fitted,\n",
              "a:link.sk-estimator-doc-link.fitted,\n",
              "a:visited.sk-estimator-doc-link.fitted {\n",
              "  /* fitted */\n",
              "  border: var(--sklearn-color-fitted-level-1) 1pt solid;\n",
              "  color: var(--sklearn-color-fitted-level-1);\n",
              "}\n",
              "\n",
              "/* On hover */\n",
              "div.sk-estimator:hover .sk-estimator-doc-link:hover,\n",
              ".sk-estimator-doc-link:hover,\n",
              "div.sk-label-container:hover .sk-estimator-doc-link:hover,\n",
              ".sk-estimator-doc-link:hover {\n",
              "  /* unfitted */\n",
              "  background-color: var(--sklearn-color-unfitted-level-3);\n",
              "  color: var(--sklearn-color-background);\n",
              "  text-decoration: none;\n",
              "}\n",
              "\n",
              "div.sk-estimator.fitted:hover .sk-estimator-doc-link.fitted:hover,\n",
              ".sk-estimator-doc-link.fitted:hover,\n",
              "div.sk-label-container:hover .sk-estimator-doc-link.fitted:hover,\n",
              ".sk-estimator-doc-link.fitted:hover {\n",
              "  /* fitted */\n",
              "  background-color: var(--sklearn-color-fitted-level-3);\n",
              "  color: var(--sklearn-color-background);\n",
              "  text-decoration: none;\n",
              "}\n",
              "\n",
              "/* Span, style for the box shown on hovering the info icon */\n",
              ".sk-estimator-doc-link span {\n",
              "  display: none;\n",
              "  z-index: 9999;\n",
              "  position: relative;\n",
              "  font-weight: normal;\n",
              "  right: .2ex;\n",
              "  padding: .5ex;\n",
              "  margin: .5ex;\n",
              "  width: min-content;\n",
              "  min-width: 20ex;\n",
              "  max-width: 50ex;\n",
              "  color: var(--sklearn-color-text);\n",
              "  box-shadow: 2pt 2pt 4pt #999;\n",
              "  /* unfitted */\n",
              "  background: var(--sklearn-color-unfitted-level-0);\n",
              "  border: .5pt solid var(--sklearn-color-unfitted-level-3);\n",
              "}\n",
              "\n",
              ".sk-estimator-doc-link.fitted span {\n",
              "  /* fitted */\n",
              "  background: var(--sklearn-color-fitted-level-0);\n",
              "  border: var(--sklearn-color-fitted-level-3);\n",
              "}\n",
              "\n",
              ".sk-estimator-doc-link:hover span {\n",
              "  display: block;\n",
              "}\n",
              "\n",
              "/* \"?\"-specific style due to the `<a>` HTML tag */\n",
              "\n",
              "#sk-container-id-1 a.estimator_doc_link {\n",
              "  float: right;\n",
              "  font-size: 1rem;\n",
              "  line-height: 1em;\n",
              "  font-family: monospace;\n",
              "  background-color: var(--sklearn-color-background);\n",
              "  border-radius: 1rem;\n",
              "  height: 1rem;\n",
              "  width: 1rem;\n",
              "  text-decoration: none;\n",
              "  /* unfitted */\n",
              "  color: var(--sklearn-color-unfitted-level-1);\n",
              "  border: var(--sklearn-color-unfitted-level-1) 1pt solid;\n",
              "}\n",
              "\n",
              "#sk-container-id-1 a.estimator_doc_link.fitted {\n",
              "  /* fitted */\n",
              "  border: var(--sklearn-color-fitted-level-1) 1pt solid;\n",
              "  color: var(--sklearn-color-fitted-level-1);\n",
              "}\n",
              "\n",
              "/* On hover */\n",
              "#sk-container-id-1 a.estimator_doc_link:hover {\n",
              "  /* unfitted */\n",
              "  background-color: var(--sklearn-color-unfitted-level-3);\n",
              "  color: var(--sklearn-color-background);\n",
              "  text-decoration: none;\n",
              "}\n",
              "\n",
              "#sk-container-id-1 a.estimator_doc_link.fitted:hover {\n",
              "  /* fitted */\n",
              "  background-color: var(--sklearn-color-fitted-level-3);\n",
              "}\n",
              "</style><div id=\"sk-container-id-1\" class=\"sk-top-container\"><div class=\"sk-text-repr-fallback\"><pre>GridSearchCV(cv=5, estimator=LogisticRegression(max_iter=30, solver=&#x27;saga&#x27;),\n",
              "             param_grid=[{&#x27;C&#x27;: array([0.1, 1. ]), &#x27;penalty&#x27;: [&#x27;l2&#x27;, &#x27;l1&#x27;]}],\n",
              "             scoring=&#x27;accuracy&#x27;)</pre><b>In a Jupyter environment, please rerun this cell to show the HTML representation or trust the notebook. <br />On GitHub, the HTML representation is unable to render, please try loading this page with nbviewer.org.</b></div><div class=\"sk-container\" hidden><div class=\"sk-item sk-dashed-wrapped\"><div class=\"sk-label-container\"><div class=\"sk-label fitted sk-toggleable\"><input class=\"sk-toggleable__control sk-hidden--visually\" id=\"sk-estimator-id-1\" type=\"checkbox\" ><label for=\"sk-estimator-id-1\" class=\"sk-toggleable__label fitted sk-toggleable__label-arrow fitted\">&nbsp;&nbsp;GridSearchCV<a class=\"sk-estimator-doc-link fitted\" rel=\"noreferrer\" target=\"_blank\" href=\"https://scikit-learn.org/1.5/modules/generated/sklearn.model_selection.GridSearchCV.html\">?<span>Documentation for GridSearchCV</span></a><span class=\"sk-estimator-doc-link fitted\">i<span>Fitted</span></span></label><div class=\"sk-toggleable__content fitted\"><pre>GridSearchCV(cv=5, estimator=LogisticRegression(max_iter=30, solver=&#x27;saga&#x27;),\n",
              "             param_grid=[{&#x27;C&#x27;: array([0.1, 1. ]), &#x27;penalty&#x27;: [&#x27;l2&#x27;, &#x27;l1&#x27;]}],\n",
              "             scoring=&#x27;accuracy&#x27;)</pre></div> </div></div><div class=\"sk-parallel\"><div class=\"sk-parallel-item\"><div class=\"sk-item\"><div class=\"sk-label-container\"><div class=\"sk-label fitted sk-toggleable\"><input class=\"sk-toggleable__control sk-hidden--visually\" id=\"sk-estimator-id-2\" type=\"checkbox\" ><label for=\"sk-estimator-id-2\" class=\"sk-toggleable__label fitted sk-toggleable__label-arrow fitted\">best_estimator_: LogisticRegression</label><div class=\"sk-toggleable__content fitted\"><pre>LogisticRegression(C=0.1, max_iter=30, solver=&#x27;saga&#x27;)</pre></div> </div></div><div class=\"sk-serial\"><div class=\"sk-item\"><div class=\"sk-estimator fitted sk-toggleable\"><input class=\"sk-toggleable__control sk-hidden--visually\" id=\"sk-estimator-id-3\" type=\"checkbox\" ><label for=\"sk-estimator-id-3\" class=\"sk-toggleable__label fitted sk-toggleable__label-arrow fitted\">&nbsp;LogisticRegression<a class=\"sk-estimator-doc-link fitted\" rel=\"noreferrer\" target=\"_blank\" href=\"https://scikit-learn.org/1.5/modules/generated/sklearn.linear_model.LogisticRegression.html\">?<span>Documentation for LogisticRegression</span></a></label><div class=\"sk-toggleable__content fitted\"><pre>LogisticRegression(C=0.1, max_iter=30, solver=&#x27;saga&#x27;)</pre></div> </div></div></div></div></div></div></div></div></div>"
            ]
          },
          "metadata": {},
          "execution_count": 24
        }
      ]
    },
    {
      "cell_type": "code",
      "source": [
        "clf_logreg_best = gs_cv_logreg.best_estimator_\n",
        "predictions_logreg = clf_logreg_best.predict(X_test_stand)\n",
        "\n",
        "print(f'beas_accuracy:{accuracy_score(y_test, predictions_logreg)}')"
      ],
      "metadata": {
        "id": "_8gQi23Lxlj8",
        "colab": {
          "base_uri": "https://localhost:8080/"
        },
        "outputId": "7532230d-e0d6-4b30-c5d1-0cbbf667424e"
      },
      "execution_count": 25,
      "outputs": [
        {
          "output_type": "stream",
          "name": "stdout",
          "text": [
            "beas_accuracy:0.8496\n"
          ]
        }
      ]
    },
    {
      "cell_type": "code",
      "source": [
        "gs_cv_logreg.best_params_"
      ],
      "metadata": {
        "id": "G3gbVM_f-7Ay",
        "colab": {
          "base_uri": "https://localhost:8080/"
        },
        "outputId": "5dce4ca0-3112-4af1-f351-90a8e5d34df7"
      },
      "execution_count": 26,
      "outputs": [
        {
          "output_type": "execute_result",
          "data": {
            "text/plain": [
              "{'C': 0.1, 'penalty': 'l2'}"
            ]
          },
          "metadata": {},
          "execution_count": 26
        }
      ]
    },
    {
      "cell_type": "markdown",
      "source": [
        "***Логистическая регрессия обученная на данных, обработанных minmax***"
      ],
      "metadata": {
        "id": "NRur4qSPzbSk"
      }
    },
    {
      "cell_type": "code",
      "source": [
        "clf_logreg_min_max = LogisticRegression(solver='saga',max_iter=30)\n",
        "gs_cv_logreg_min_max = GridSearchCV(clf_logreg_min_max, param_grid=logreg_params, scoring='accuracy', cv=5)\n",
        "gs_cv_logreg_min_max.fit(X_train_min_max, y_train)"
      ],
      "metadata": {
        "id": "zryQcd6Bza6S"
      },
      "execution_count": null,
      "outputs": []
    },
    {
      "cell_type": "code",
      "source": [
        "clf_logreg_best_min_max = gs_cv_logreg_min_max.best_estimator_\n",
        "predictions_logreg_min_max = clf_logreg_best_min_max.predict(X_test_min_max)\n",
        "\n",
        "print(f'beas_accuracy:{accuracy_score(y_test, predictions_logreg_min_max)}')"
      ],
      "metadata": {
        "id": "IVFS2F0ezYeg"
      },
      "execution_count": null,
      "outputs": []
    },
    {
      "cell_type": "markdown",
      "source": [
        "***KNN на нормированных данных***"
      ],
      "metadata": {
        "id": "j7RDmzFNzwFE"
      }
    },
    {
      "cell_type": "code",
      "source": [
        "clf_knn = KNeighborsClassifier()\n",
        "params_knn = {\n",
        "    'n_neighbors': [3, 5 ,7],\n",
        "    'metric': ['minkowski', 'cosine']\n",
        "}\n",
        "\n",
        "gs_cv_knn = GridSearchCV(clf_knn, param_grid=params_knn, scoring='accuracy', cv=10)\n",
        "gs_cv_knn.fit(X_train_stand, y_train)\n"
      ],
      "metadata": {
        "id": "TRxKE_nszv0p",
        "collapsed": true
      },
      "execution_count": null,
      "outputs": []
    },
    {
      "cell_type": "code",
      "source": [
        "clf_knn_best = gs_cv_knn.best_estimator_\n",
        "predictions_knn = clf_knn_best.predict(X_test_stand)\n",
        "\n",
        "print(f'beas_accuracy:{accuracy_score(y_test, predictions_knn)}')"
      ],
      "metadata": {
        "colab": {
          "base_uri": "https://localhost:8080/"
        },
        "id": "ioOxmXgMi3CE",
        "outputId": "e6d2897d-30d1-48f3-e284-2ac593ce107b"
      },
      "execution_count": null,
      "outputs": [
        {
          "output_type": "stream",
          "name": "stdout",
          "text": [
            "beas_accuracy:0.8621\n"
          ]
        }
      ]
    },
    {
      "cell_type": "markdown",
      "source": [
        "***KNN на min_max обработанных данных***"
      ],
      "metadata": {
        "id": "c1EPN6TW1_ke"
      }
    },
    {
      "cell_type": "code",
      "source": [
        "clf_knn_min_max = KNeighborsClassifier()\n",
        "\n",
        "gs_cv_knn_min_max = GridSearchCV(clf_knn_min_max, param_grid=params_knn, scoring='accuracy', cv=5)\n",
        "gs_cv_knn_min_max.fit(X_train_min_max, y_train)\n",
        "\n",
        "clf_knn_best_min_max = gs_cv_knn_min_max.best_estimator_\n",
        "predictions_knn_min_max = clf_knn_best_min_max.predict(X_test_min_max)\n",
        "\n",
        "print(f'beas_accuracy:{accuracy_score(y_test, predictions_knn_min_max)}')"
      ],
      "metadata": {
        "id": "IKyMEILB1__E",
        "colab": {
          "base_uri": "https://localhost:8080/"
        },
        "outputId": "ee0114a3-d5c1-4853-c6a2-3f63efd9ecbb"
      },
      "execution_count": null,
      "outputs": [
        {
          "output_type": "stream",
          "name": "stdout",
          "text": [
            "beas_accuracy:0.8623\n"
          ]
        }
      ]
    },
    {
      "cell_type": "markdown",
      "source": [
        "У нас маленькая сходимость из-за маленьких max_iter, но скорее всего регрессия их за потери пространственной связи между пикселями мы потеряем много смысла, а КНН найдет ближайшие картинке по пикселям, и эта информация лучше сохранит пространственное строение изображения"
      ],
      "metadata": {
        "id": "dQpXS6_VLmTh"
      }
    },
    {
      "cell_type": "markdown",
      "source": [
        "## **Бонусы**"
      ],
      "metadata": {
        "id": "MlMatXPK_56f"
      }
    },
    {
      "cell_type": "markdown",
      "source": [
        "#### Задача 1. [1 Балл] У Вас есть датасет с 10**4 объектами. У всех объектов два признака и все они одинаковые у всех объектов. Однако, 5000 - отрицательного класса и 5000 - положительного класса. Вы запускате Логистическую регрессию для классификации на данном датасете. Что Вы получите в итоге обучения данной модели на SGD? Ответ обоснуйте."
      ],
      "metadata": {
        "id": "eSP3Qx8FAFsA"
      }
    },
    {
      "cell_type": "markdown",
      "source": [
        "***Модель, вероятность предсказаний меток классов которой будет всегда 1/2, поскольку она построит разделяющую поверхность которая проходит через все эти точки и содержащая их всех. Соответсвенно любая точка в тестовой выборке окажется в одной из полуплоскостей (которые заданы случайно)***"
      ],
      "metadata": {
        "id": "m3NS_Z_T20-g"
      }
    },
    {
      "cell_type": "markdown",
      "source": [
        "#### Задача 2. [1 Балл] При классификации Fashion Mnist модель Логистической регрессии на обучении многоклассовой классификации методом One-VS-All у Вас получилось k классификаторов. Изобразите веса ваших полученных моделей как изображения в matplotlib. Возможно, модель выучила какие-то графические паттерны в данных? Ответ обоснуйте."
      ],
      "metadata": {
        "id": "W4qCiGesA258"
      }
    },
    {
      "cell_type": "code",
      "source": [
        "clf_onevsone = OneVsRestClassifier(LogisticRegression(solver='liblinear', max_iter=20, C= 0.1, penalty= 'l2'))\n",
        "clf_onevsone.fit(X_train_stand, y_train)"
      ],
      "metadata": {
        "id": "h_Jk7q6Uu4QP",
        "colab": {
          "base_uri": "https://localhost:8080/",
          "height": 136
        },
        "outputId": "304ea140-75e1-4f80-9d2e-9d4686cc08ab"
      },
      "execution_count": 29,
      "outputs": [
        {
          "output_type": "execute_result",
          "data": {
            "text/plain": [
              "OneVsRestClassifier(estimator=LogisticRegression(C=0.1, max_iter=20,\n",
              "                                                 solver='liblinear'))"
            ],
            "text/html": [
              "<style>#sk-container-id-2 {\n",
              "  /* Definition of color scheme common for light and dark mode */\n",
              "  --sklearn-color-text: black;\n",
              "  --sklearn-color-line: gray;\n",
              "  /* Definition of color scheme for unfitted estimators */\n",
              "  --sklearn-color-unfitted-level-0: #fff5e6;\n",
              "  --sklearn-color-unfitted-level-1: #f6e4d2;\n",
              "  --sklearn-color-unfitted-level-2: #ffe0b3;\n",
              "  --sklearn-color-unfitted-level-3: chocolate;\n",
              "  /* Definition of color scheme for fitted estimators */\n",
              "  --sklearn-color-fitted-level-0: #f0f8ff;\n",
              "  --sklearn-color-fitted-level-1: #d4ebff;\n",
              "  --sklearn-color-fitted-level-2: #b3dbfd;\n",
              "  --sklearn-color-fitted-level-3: cornflowerblue;\n",
              "\n",
              "  /* Specific color for light theme */\n",
              "  --sklearn-color-text-on-default-background: var(--sg-text-color, var(--theme-code-foreground, var(--jp-content-font-color1, black)));\n",
              "  --sklearn-color-background: var(--sg-background-color, var(--theme-background, var(--jp-layout-color0, white)));\n",
              "  --sklearn-color-border-box: var(--sg-text-color, var(--theme-code-foreground, var(--jp-content-font-color1, black)));\n",
              "  --sklearn-color-icon: #696969;\n",
              "\n",
              "  @media (prefers-color-scheme: dark) {\n",
              "    /* Redefinition of color scheme for dark theme */\n",
              "    --sklearn-color-text-on-default-background: var(--sg-text-color, var(--theme-code-foreground, var(--jp-content-font-color1, white)));\n",
              "    --sklearn-color-background: var(--sg-background-color, var(--theme-background, var(--jp-layout-color0, #111)));\n",
              "    --sklearn-color-border-box: var(--sg-text-color, var(--theme-code-foreground, var(--jp-content-font-color1, white)));\n",
              "    --sklearn-color-icon: #878787;\n",
              "  }\n",
              "}\n",
              "\n",
              "#sk-container-id-2 {\n",
              "  color: var(--sklearn-color-text);\n",
              "}\n",
              "\n",
              "#sk-container-id-2 pre {\n",
              "  padding: 0;\n",
              "}\n",
              "\n",
              "#sk-container-id-2 input.sk-hidden--visually {\n",
              "  border: 0;\n",
              "  clip: rect(1px 1px 1px 1px);\n",
              "  clip: rect(1px, 1px, 1px, 1px);\n",
              "  height: 1px;\n",
              "  margin: -1px;\n",
              "  overflow: hidden;\n",
              "  padding: 0;\n",
              "  position: absolute;\n",
              "  width: 1px;\n",
              "}\n",
              "\n",
              "#sk-container-id-2 div.sk-dashed-wrapped {\n",
              "  border: 1px dashed var(--sklearn-color-line);\n",
              "  margin: 0 0.4em 0.5em 0.4em;\n",
              "  box-sizing: border-box;\n",
              "  padding-bottom: 0.4em;\n",
              "  background-color: var(--sklearn-color-background);\n",
              "}\n",
              "\n",
              "#sk-container-id-2 div.sk-container {\n",
              "  /* jupyter's `normalize.less` sets `[hidden] { display: none; }`\n",
              "     but bootstrap.min.css set `[hidden] { display: none !important; }`\n",
              "     so we also need the `!important` here to be able to override the\n",
              "     default hidden behavior on the sphinx rendered scikit-learn.org.\n",
              "     See: https://github.com/scikit-learn/scikit-learn/issues/21755 */\n",
              "  display: inline-block !important;\n",
              "  position: relative;\n",
              "}\n",
              "\n",
              "#sk-container-id-2 div.sk-text-repr-fallback {\n",
              "  display: none;\n",
              "}\n",
              "\n",
              "div.sk-parallel-item,\n",
              "div.sk-serial,\n",
              "div.sk-item {\n",
              "  /* draw centered vertical line to link estimators */\n",
              "  background-image: linear-gradient(var(--sklearn-color-text-on-default-background), var(--sklearn-color-text-on-default-background));\n",
              "  background-size: 2px 100%;\n",
              "  background-repeat: no-repeat;\n",
              "  background-position: center center;\n",
              "}\n",
              "\n",
              "/* Parallel-specific style estimator block */\n",
              "\n",
              "#sk-container-id-2 div.sk-parallel-item::after {\n",
              "  content: \"\";\n",
              "  width: 100%;\n",
              "  border-bottom: 2px solid var(--sklearn-color-text-on-default-background);\n",
              "  flex-grow: 1;\n",
              "}\n",
              "\n",
              "#sk-container-id-2 div.sk-parallel {\n",
              "  display: flex;\n",
              "  align-items: stretch;\n",
              "  justify-content: center;\n",
              "  background-color: var(--sklearn-color-background);\n",
              "  position: relative;\n",
              "}\n",
              "\n",
              "#sk-container-id-2 div.sk-parallel-item {\n",
              "  display: flex;\n",
              "  flex-direction: column;\n",
              "}\n",
              "\n",
              "#sk-container-id-2 div.sk-parallel-item:first-child::after {\n",
              "  align-self: flex-end;\n",
              "  width: 50%;\n",
              "}\n",
              "\n",
              "#sk-container-id-2 div.sk-parallel-item:last-child::after {\n",
              "  align-self: flex-start;\n",
              "  width: 50%;\n",
              "}\n",
              "\n",
              "#sk-container-id-2 div.sk-parallel-item:only-child::after {\n",
              "  width: 0;\n",
              "}\n",
              "\n",
              "/* Serial-specific style estimator block */\n",
              "\n",
              "#sk-container-id-2 div.sk-serial {\n",
              "  display: flex;\n",
              "  flex-direction: column;\n",
              "  align-items: center;\n",
              "  background-color: var(--sklearn-color-background);\n",
              "  padding-right: 1em;\n",
              "  padding-left: 1em;\n",
              "}\n",
              "\n",
              "\n",
              "/* Toggleable style: style used for estimator/Pipeline/ColumnTransformer box that is\n",
              "clickable and can be expanded/collapsed.\n",
              "- Pipeline and ColumnTransformer use this feature and define the default style\n",
              "- Estimators will overwrite some part of the style using the `sk-estimator` class\n",
              "*/\n",
              "\n",
              "/* Pipeline and ColumnTransformer style (default) */\n",
              "\n",
              "#sk-container-id-2 div.sk-toggleable {\n",
              "  /* Default theme specific background. It is overwritten whether we have a\n",
              "  specific estimator or a Pipeline/ColumnTransformer */\n",
              "  background-color: var(--sklearn-color-background);\n",
              "}\n",
              "\n",
              "/* Toggleable label */\n",
              "#sk-container-id-2 label.sk-toggleable__label {\n",
              "  cursor: pointer;\n",
              "  display: block;\n",
              "  width: 100%;\n",
              "  margin-bottom: 0;\n",
              "  padding: 0.5em;\n",
              "  box-sizing: border-box;\n",
              "  text-align: center;\n",
              "}\n",
              "\n",
              "#sk-container-id-2 label.sk-toggleable__label-arrow:before {\n",
              "  /* Arrow on the left of the label */\n",
              "  content: \"▸\";\n",
              "  float: left;\n",
              "  margin-right: 0.25em;\n",
              "  color: var(--sklearn-color-icon);\n",
              "}\n",
              "\n",
              "#sk-container-id-2 label.sk-toggleable__label-arrow:hover:before {\n",
              "  color: var(--sklearn-color-text);\n",
              "}\n",
              "\n",
              "/* Toggleable content - dropdown */\n",
              "\n",
              "#sk-container-id-2 div.sk-toggleable__content {\n",
              "  max-height: 0;\n",
              "  max-width: 0;\n",
              "  overflow: hidden;\n",
              "  text-align: left;\n",
              "  /* unfitted */\n",
              "  background-color: var(--sklearn-color-unfitted-level-0);\n",
              "}\n",
              "\n",
              "#sk-container-id-2 div.sk-toggleable__content.fitted {\n",
              "  /* fitted */\n",
              "  background-color: var(--sklearn-color-fitted-level-0);\n",
              "}\n",
              "\n",
              "#sk-container-id-2 div.sk-toggleable__content pre {\n",
              "  margin: 0.2em;\n",
              "  border-radius: 0.25em;\n",
              "  color: var(--sklearn-color-text);\n",
              "  /* unfitted */\n",
              "  background-color: var(--sklearn-color-unfitted-level-0);\n",
              "}\n",
              "\n",
              "#sk-container-id-2 div.sk-toggleable__content.fitted pre {\n",
              "  /* unfitted */\n",
              "  background-color: var(--sklearn-color-fitted-level-0);\n",
              "}\n",
              "\n",
              "#sk-container-id-2 input.sk-toggleable__control:checked~div.sk-toggleable__content {\n",
              "  /* Expand drop-down */\n",
              "  max-height: 200px;\n",
              "  max-width: 100%;\n",
              "  overflow: auto;\n",
              "}\n",
              "\n",
              "#sk-container-id-2 input.sk-toggleable__control:checked~label.sk-toggleable__label-arrow:before {\n",
              "  content: \"▾\";\n",
              "}\n",
              "\n",
              "/* Pipeline/ColumnTransformer-specific style */\n",
              "\n",
              "#sk-container-id-2 div.sk-label input.sk-toggleable__control:checked~label.sk-toggleable__label {\n",
              "  color: var(--sklearn-color-text);\n",
              "  background-color: var(--sklearn-color-unfitted-level-2);\n",
              "}\n",
              "\n",
              "#sk-container-id-2 div.sk-label.fitted input.sk-toggleable__control:checked~label.sk-toggleable__label {\n",
              "  background-color: var(--sklearn-color-fitted-level-2);\n",
              "}\n",
              "\n",
              "/* Estimator-specific style */\n",
              "\n",
              "/* Colorize estimator box */\n",
              "#sk-container-id-2 div.sk-estimator input.sk-toggleable__control:checked~label.sk-toggleable__label {\n",
              "  /* unfitted */\n",
              "  background-color: var(--sklearn-color-unfitted-level-2);\n",
              "}\n",
              "\n",
              "#sk-container-id-2 div.sk-estimator.fitted input.sk-toggleable__control:checked~label.sk-toggleable__label {\n",
              "  /* fitted */\n",
              "  background-color: var(--sklearn-color-fitted-level-2);\n",
              "}\n",
              "\n",
              "#sk-container-id-2 div.sk-label label.sk-toggleable__label,\n",
              "#sk-container-id-2 div.sk-label label {\n",
              "  /* The background is the default theme color */\n",
              "  color: var(--sklearn-color-text-on-default-background);\n",
              "}\n",
              "\n",
              "/* On hover, darken the color of the background */\n",
              "#sk-container-id-2 div.sk-label:hover label.sk-toggleable__label {\n",
              "  color: var(--sklearn-color-text);\n",
              "  background-color: var(--sklearn-color-unfitted-level-2);\n",
              "}\n",
              "\n",
              "/* Label box, darken color on hover, fitted */\n",
              "#sk-container-id-2 div.sk-label.fitted:hover label.sk-toggleable__label.fitted {\n",
              "  color: var(--sklearn-color-text);\n",
              "  background-color: var(--sklearn-color-fitted-level-2);\n",
              "}\n",
              "\n",
              "/* Estimator label */\n",
              "\n",
              "#sk-container-id-2 div.sk-label label {\n",
              "  font-family: monospace;\n",
              "  font-weight: bold;\n",
              "  display: inline-block;\n",
              "  line-height: 1.2em;\n",
              "}\n",
              "\n",
              "#sk-container-id-2 div.sk-label-container {\n",
              "  text-align: center;\n",
              "}\n",
              "\n",
              "/* Estimator-specific */\n",
              "#sk-container-id-2 div.sk-estimator {\n",
              "  font-family: monospace;\n",
              "  border: 1px dotted var(--sklearn-color-border-box);\n",
              "  border-radius: 0.25em;\n",
              "  box-sizing: border-box;\n",
              "  margin-bottom: 0.5em;\n",
              "  /* unfitted */\n",
              "  background-color: var(--sklearn-color-unfitted-level-0);\n",
              "}\n",
              "\n",
              "#sk-container-id-2 div.sk-estimator.fitted {\n",
              "  /* fitted */\n",
              "  background-color: var(--sklearn-color-fitted-level-0);\n",
              "}\n",
              "\n",
              "/* on hover */\n",
              "#sk-container-id-2 div.sk-estimator:hover {\n",
              "  /* unfitted */\n",
              "  background-color: var(--sklearn-color-unfitted-level-2);\n",
              "}\n",
              "\n",
              "#sk-container-id-2 div.sk-estimator.fitted:hover {\n",
              "  /* fitted */\n",
              "  background-color: var(--sklearn-color-fitted-level-2);\n",
              "}\n",
              "\n",
              "/* Specification for estimator info (e.g. \"i\" and \"?\") */\n",
              "\n",
              "/* Common style for \"i\" and \"?\" */\n",
              "\n",
              ".sk-estimator-doc-link,\n",
              "a:link.sk-estimator-doc-link,\n",
              "a:visited.sk-estimator-doc-link {\n",
              "  float: right;\n",
              "  font-size: smaller;\n",
              "  line-height: 1em;\n",
              "  font-family: monospace;\n",
              "  background-color: var(--sklearn-color-background);\n",
              "  border-radius: 1em;\n",
              "  height: 1em;\n",
              "  width: 1em;\n",
              "  text-decoration: none !important;\n",
              "  margin-left: 1ex;\n",
              "  /* unfitted */\n",
              "  border: var(--sklearn-color-unfitted-level-1) 1pt solid;\n",
              "  color: var(--sklearn-color-unfitted-level-1);\n",
              "}\n",
              "\n",
              ".sk-estimator-doc-link.fitted,\n",
              "a:link.sk-estimator-doc-link.fitted,\n",
              "a:visited.sk-estimator-doc-link.fitted {\n",
              "  /* fitted */\n",
              "  border: var(--sklearn-color-fitted-level-1) 1pt solid;\n",
              "  color: var(--sklearn-color-fitted-level-1);\n",
              "}\n",
              "\n",
              "/* On hover */\n",
              "div.sk-estimator:hover .sk-estimator-doc-link:hover,\n",
              ".sk-estimator-doc-link:hover,\n",
              "div.sk-label-container:hover .sk-estimator-doc-link:hover,\n",
              ".sk-estimator-doc-link:hover {\n",
              "  /* unfitted */\n",
              "  background-color: var(--sklearn-color-unfitted-level-3);\n",
              "  color: var(--sklearn-color-background);\n",
              "  text-decoration: none;\n",
              "}\n",
              "\n",
              "div.sk-estimator.fitted:hover .sk-estimator-doc-link.fitted:hover,\n",
              ".sk-estimator-doc-link.fitted:hover,\n",
              "div.sk-label-container:hover .sk-estimator-doc-link.fitted:hover,\n",
              ".sk-estimator-doc-link.fitted:hover {\n",
              "  /* fitted */\n",
              "  background-color: var(--sklearn-color-fitted-level-3);\n",
              "  color: var(--sklearn-color-background);\n",
              "  text-decoration: none;\n",
              "}\n",
              "\n",
              "/* Span, style for the box shown on hovering the info icon */\n",
              ".sk-estimator-doc-link span {\n",
              "  display: none;\n",
              "  z-index: 9999;\n",
              "  position: relative;\n",
              "  font-weight: normal;\n",
              "  right: .2ex;\n",
              "  padding: .5ex;\n",
              "  margin: .5ex;\n",
              "  width: min-content;\n",
              "  min-width: 20ex;\n",
              "  max-width: 50ex;\n",
              "  color: var(--sklearn-color-text);\n",
              "  box-shadow: 2pt 2pt 4pt #999;\n",
              "  /* unfitted */\n",
              "  background: var(--sklearn-color-unfitted-level-0);\n",
              "  border: .5pt solid var(--sklearn-color-unfitted-level-3);\n",
              "}\n",
              "\n",
              ".sk-estimator-doc-link.fitted span {\n",
              "  /* fitted */\n",
              "  background: var(--sklearn-color-fitted-level-0);\n",
              "  border: var(--sklearn-color-fitted-level-3);\n",
              "}\n",
              "\n",
              ".sk-estimator-doc-link:hover span {\n",
              "  display: block;\n",
              "}\n",
              "\n",
              "/* \"?\"-specific style due to the `<a>` HTML tag */\n",
              "\n",
              "#sk-container-id-2 a.estimator_doc_link {\n",
              "  float: right;\n",
              "  font-size: 1rem;\n",
              "  line-height: 1em;\n",
              "  font-family: monospace;\n",
              "  background-color: var(--sklearn-color-background);\n",
              "  border-radius: 1rem;\n",
              "  height: 1rem;\n",
              "  width: 1rem;\n",
              "  text-decoration: none;\n",
              "  /* unfitted */\n",
              "  color: var(--sklearn-color-unfitted-level-1);\n",
              "  border: var(--sklearn-color-unfitted-level-1) 1pt solid;\n",
              "}\n",
              "\n",
              "#sk-container-id-2 a.estimator_doc_link.fitted {\n",
              "  /* fitted */\n",
              "  border: var(--sklearn-color-fitted-level-1) 1pt solid;\n",
              "  color: var(--sklearn-color-fitted-level-1);\n",
              "}\n",
              "\n",
              "/* On hover */\n",
              "#sk-container-id-2 a.estimator_doc_link:hover {\n",
              "  /* unfitted */\n",
              "  background-color: var(--sklearn-color-unfitted-level-3);\n",
              "  color: var(--sklearn-color-background);\n",
              "  text-decoration: none;\n",
              "}\n",
              "\n",
              "#sk-container-id-2 a.estimator_doc_link.fitted:hover {\n",
              "  /* fitted */\n",
              "  background-color: var(--sklearn-color-fitted-level-3);\n",
              "}\n",
              "</style><div id=\"sk-container-id-2\" class=\"sk-top-container\"><div class=\"sk-text-repr-fallback\"><pre>OneVsRestClassifier(estimator=LogisticRegression(C=0.1, max_iter=20,\n",
              "                                                 solver=&#x27;liblinear&#x27;))</pre><b>In a Jupyter environment, please rerun this cell to show the HTML representation or trust the notebook. <br />On GitHub, the HTML representation is unable to render, please try loading this page with nbviewer.org.</b></div><div class=\"sk-container\" hidden><div class=\"sk-item sk-dashed-wrapped\"><div class=\"sk-label-container\"><div class=\"sk-label fitted sk-toggleable\"><input class=\"sk-toggleable__control sk-hidden--visually\" id=\"sk-estimator-id-4\" type=\"checkbox\" ><label for=\"sk-estimator-id-4\" class=\"sk-toggleable__label fitted sk-toggleable__label-arrow fitted\">&nbsp;&nbsp;OneVsRestClassifier<a class=\"sk-estimator-doc-link fitted\" rel=\"noreferrer\" target=\"_blank\" href=\"https://scikit-learn.org/1.5/modules/generated/sklearn.multiclass.OneVsRestClassifier.html\">?<span>Documentation for OneVsRestClassifier</span></a><span class=\"sk-estimator-doc-link fitted\">i<span>Fitted</span></span></label><div class=\"sk-toggleable__content fitted\"><pre>OneVsRestClassifier(estimator=LogisticRegression(C=0.1, max_iter=20,\n",
              "                                                 solver=&#x27;liblinear&#x27;))</pre></div> </div></div><div class=\"sk-parallel\"><div class=\"sk-parallel-item\"><div class=\"sk-item\"><div class=\"sk-label-container\"><div class=\"sk-label fitted sk-toggleable\"><input class=\"sk-toggleable__control sk-hidden--visually\" id=\"sk-estimator-id-5\" type=\"checkbox\" ><label for=\"sk-estimator-id-5\" class=\"sk-toggleable__label fitted sk-toggleable__label-arrow fitted\">estimator: LogisticRegression</label><div class=\"sk-toggleable__content fitted\"><pre>LogisticRegression(C=0.1, max_iter=20, solver=&#x27;liblinear&#x27;)</pre></div> </div></div><div class=\"sk-serial\"><div class=\"sk-item\"><div class=\"sk-estimator fitted sk-toggleable\"><input class=\"sk-toggleable__control sk-hidden--visually\" id=\"sk-estimator-id-6\" type=\"checkbox\" ><label for=\"sk-estimator-id-6\" class=\"sk-toggleable__label fitted sk-toggleable__label-arrow fitted\">&nbsp;LogisticRegression<a class=\"sk-estimator-doc-link fitted\" rel=\"noreferrer\" target=\"_blank\" href=\"https://scikit-learn.org/1.5/modules/generated/sklearn.linear_model.LogisticRegression.html\">?<span>Documentation for LogisticRegression</span></a></label><div class=\"sk-toggleable__content fitted\"><pre>LogisticRegression(C=0.1, max_iter=20, solver=&#x27;liblinear&#x27;)</pre></div> </div></div></div></div></div></div></div></div></div>"
            ]
          },
          "metadata": {},
          "execution_count": 29
        }
      ]
    },
    {
      "cell_type": "code",
      "source": [
        "fig, axs = plt.subplots(2,5)\n",
        "for i,cat in enumerate (categories):\n",
        "  axs[i//5, i%5].imshow(stand_preprocessor.inverse_transform(clf_onevsone.estimators_[i].coef_).reshape(28,28))\n",
        "  axs[i//5, i%5].set_title(f'class {cat}')"
      ],
      "metadata": {
        "id": "dZsI_mbRlPOk",
        "colab": {
          "base_uri": "https://localhost:8080/",
          "height": 374
        },
        "outputId": "b7e30dfb-aa84-43c9-9131-69985433b756"
      },
      "execution_count": 30,
      "outputs": [
        {
          "output_type": "display_data",
          "data": {
            "text/plain": [
              "<Figure size 640x480 with 10 Axes>"
            ],
            "image/png": "[encoded data removed]"
          },
          "metadata": {}
        }
      ]
    },
    {
      "cell_type": "markdown",
      "source": [
        "Малая грубина не дает яркой картинки паттернов"
      ],
      "metadata": {
        "id": "2Oo4xmaONpe5"
      }
    },
    {
      "cell_type": "markdown",
      "source": [
        "#### Задача 3. [1 Балл] В задаче классификации Fashion Mnist Вы попытались выбить какой-то accuracy. Для получения бонусного балла Вам нужно на той же самой выборке получить значение метрики accuracy > 0.87 на тесте (Тестовую выборку менять нельзя, но обучающую можно). Какими моделями и методами Вы это будете делать - на Ваше усмотрение, но **нельзя использовать никакие нейронные сети**. Необходимо получить модель машинного обучения, выполняющую эту задачу."
      ],
      "metadata": {
        "id": "fwO_-__KB2Zy"
      }
    },
    {
      "cell_type": "code",
      "source": [
        "!pip install catboost\n",
        "from catboost import CatBoostClassifier\n",
        "\n",
        "clf_cat_boost = CatBoostClassifier(iterations=150)\n",
        "clf_cat_boost.fit(X_train_stand, y_train)\n",
        "pred = clf_cat_boost.predict(X_test_stand)\n",
        "print(f'beas_accuracy:{accuracy_score(y_test, pred)}')"
      ],
      "metadata": {
        "colab": {
          "base_uri": "https://localhost:8080/"
        },
        "id": "LDCBkxwqOXd-",
        "outputId": "c77b29f1-4354-46e3-f71e-d0fbcdc5e97a"
      },
      "execution_count": 38,
      "outputs": [
        {
          "output_type": "stream",
          "name": "stdout",
          "text": [
            "Requirement already satisfied: catboost in /usr/local/lib/python3.10/dist-packages (1.2.7)\n",
            "Requirement already satisfied: graphviz in /usr/local/lib/python3.10/dist-packages (from catboost) (0.20.3)\n",
            "Requirement already satisfied: matplotlib in /usr/local/lib/python3.10/dist-packages (from catboost) (3.8.0)\n",
            "Requirement already satisfied: numpy<2.0,>=1.16.0 in /usr/local/lib/python3.10/dist-packages (from catboost) (1.26.4)\n",
            "Requirement already satisfied: pandas>=0.24 in /usr/local/lib/python3.10/dist-packages (from catboost) (2.2.2)\n",
            "Requirement already satisfied: scipy in /usr/local/lib/python3.10/dist-packages (from catboost) (1.13.1)\n",
            "Requirement already satisfied: plotly in /usr/local/lib/python3.10/dist-packages (from catboost) (5.24.1)\n",
            "Requirement already satisfied: six in /usr/local/lib/python3.10/dist-packages (from catboost) (1.16.0)\n",
            "Requirement already satisfied: python-dateutil>=2.8.2 in /usr/local/lib/python3.10/dist-packages (from pandas>=0.24->catboost) (2.8.2)\n",
            "Requirement already satisfied: pytz>=2020.1 in /usr/local/lib/python3.10/dist-packages (from pandas>=0.24->catboost) (2024.2)\n",
            "Requirement already satisfied: tzdata>=2022.7 in /usr/local/lib/python3.10/dist-packages (from pandas>=0.24->catboost) (2024.2)\n",
            "Requirement already satisfied: contourpy>=1.0.1 in /usr/local/lib/python3.10/dist-packages (from matplotlib->catboost) (1.3.0)\n",
            "Requirement already satisfied: cycler>=0.10 in /usr/local/lib/python3.10/dist-packages (from matplotlib->catboost) (0.12.1)\n",
            "Requirement already satisfied: fonttools>=4.22.0 in /usr/local/lib/python3.10/dist-packages (from matplotlib->catboost) (4.54.1)\n",
            "Requirement already satisfied: kiwisolver>=1.0.1 in /usr/local/lib/python3.10/dist-packages (from matplotlib->catboost) (1.4.7)\n",
            "Requirement already satisfied: packaging>=20.0 in /usr/local/lib/python3.10/dist-packages (from matplotlib->catboost) (24.1)\n",
            "Requirement already satisfied: pillow>=6.2.0 in /usr/local/lib/python3.10/dist-packages (from matplotlib->catboost) (10.4.0)\n",
            "Requirement already satisfied: pyparsing>=2.3.1 in /usr/local/lib/python3.10/dist-packages (from matplotlib->catboost) (3.2.0)\n",
            "Requirement already satisfied: tenacity>=6.2.0 in /usr/local/lib/python3.10/dist-packages (from plotly->catboost) (9.0.0)\n",
            "Learning rate set to 0.479925\n",
            "0:\tlearn: 1.1795241\ttotal: 7.92s\tremaining: 19m 39s\n",
            "1:\tlearn: 0.9315319\ttotal: 13.4s\tremaining: 16m 31s\n",
            "2:\tlearn: 0.8168104\ttotal: 22.4s\tremaining: 18m 19s\n",
            "3:\tlearn: 0.7353139\ttotal: 29.3s\tremaining: 17m 49s\n",
            "4:\tlearn: 0.6837516\ttotal: 34.7s\tremaining: 16m 46s\n",
            "5:\tlearn: 0.6320688\ttotal: 42.8s\tremaining: 17m 7s\n",
            "6:\tlearn: 0.5971958\ttotal: 48.3s\tremaining: 16m 27s\n",
            "7:\tlearn: 0.5728303\ttotal: 55.7s\tremaining: 16m 29s\n",
            "8:\tlearn: 0.5534922\ttotal: 1m 1s\tremaining: 16m 10s\n",
            "9:\tlearn: 0.5416177\ttotal: 1m 7s\tremaining: 15m 45s\n",
            "10:\tlearn: 0.5260922\ttotal: 1m 15s\tremaining: 15m 51s\n",
            "11:\tlearn: 0.5126380\ttotal: 1m 20s\tremaining: 15m 30s\n",
            "12:\tlearn: 0.5010265\ttotal: 1m 28s\tremaining: 15m 34s\n",
            "13:\tlearn: 0.4868553\ttotal: 1m 34s\tremaining: 15m 14s\n",
            "14:\tlearn: 0.4762904\ttotal: 1m 40s\tremaining: 15m 2s\n",
            "15:\tlearn: 0.4664400\ttotal: 1m 47s\tremaining: 15m 1s\n",
            "16:\tlearn: 0.4537187\ttotal: 1m 53s\tremaining: 14m 45s\n",
            "17:\tlearn: 0.4457865\ttotal: 2m 1s\tremaining: 14m 47s\n",
            "18:\tlearn: 0.4412101\ttotal: 2m 6s\tremaining: 14m 32s\n",
            "19:\tlearn: 0.4342508\ttotal: 2m 12s\tremaining: 14m 23s\n",
            "20:\tlearn: 0.4264167\ttotal: 2m 19s\tremaining: 14m 19s\n",
            "21:\tlearn: 0.4215584\ttotal: 2m 25s\tremaining: 14m 5s\n",
            "22:\tlearn: 0.4136975\ttotal: 2m 33s\tremaining: 14m 6s\n",
            "23:\tlearn: 0.4048619\ttotal: 2m 38s\tremaining: 13m 53s\n",
            "24:\tlearn: 0.3980097\ttotal: 2m 45s\tremaining: 13m 47s\n",
            "25:\tlearn: 0.3896586\ttotal: 2m 52s\tremaining: 13m 41s\n",
            "26:\tlearn: 0.3865101\ttotal: 2m 57s\tremaining: 13m 29s\n",
            "27:\tlearn: 0.3846442\ttotal: 3m 5s\tremaining: 13m 28s\n",
            "28:\tlearn: 0.3833665\ttotal: 3m 10s\tremaining: 13m 16s\n",
            "29:\tlearn: 0.3781814\ttotal: 3m 17s\tremaining: 13m 11s\n",
            "30:\tlearn: 0.3757923\ttotal: 3m 23s\tremaining: 13m 2s\n",
            "31:\tlearn: 0.3732465\ttotal: 3m 29s\tremaining: 12m 52s\n",
            "32:\tlearn: 0.3716445\ttotal: 3m 37s\tremaining: 12m 50s\n",
            "33:\tlearn: 0.3675504\ttotal: 3m 42s\tremaining: 12m 40s\n",
            "34:\tlearn: 0.3632391\ttotal: 3m 51s\tremaining: 12m 40s\n",
            "35:\tlearn: 0.3603630\ttotal: 3m 58s\tremaining: 12m 35s\n",
            "36:\tlearn: 0.3570213\ttotal: 4m 4s\tremaining: 12m 25s\n",
            "37:\tlearn: 0.3550712\ttotal: 4m 11s\tremaining: 12m 22s\n",
            "38:\tlearn: 0.3533122\ttotal: 4m 17s\tremaining: 12m 12s\n",
            "39:\tlearn: 0.3510856\ttotal: 4m 24s\tremaining: 12m 6s\n",
            "40:\tlearn: 0.3487624\ttotal: 4m 30s\tremaining: 11m 59s\n",
            "41:\tlearn: 0.3457232\ttotal: 4m 36s\tremaining: 11m 49s\n",
            "42:\tlearn: 0.3435209\ttotal: 4m 44s\tremaining: 11m 46s\n",
            "43:\tlearn: 0.3420207\ttotal: 4m 49s\tremaining: 11m 37s\n",
            "44:\tlearn: 0.3398348\ttotal: 4m 57s\tremaining: 11m 33s\n",
            "45:\tlearn: 0.3384512\ttotal: 5m 2s\tremaining: 11m 24s\n",
            "46:\tlearn: 0.3370616\ttotal: 5m 8s\tremaining: 11m 15s\n",
            "47:\tlearn: 0.3341393\ttotal: 5m 16s\tremaining: 11m 11s\n",
            "48:\tlearn: 0.3324581\ttotal: 5m 21s\tremaining: 11m 2s\n",
            "49:\tlearn: 0.3303024\ttotal: 5m 29s\tremaining: 10m 59s\n",
            "50:\tlearn: 0.3288404\ttotal: 5m 35s\tremaining: 10m 50s\n",
            "51:\tlearn: 0.3279622\ttotal: 5m 41s\tremaining: 10m 43s\n",
            "52:\tlearn: 0.3242789\ttotal: 5m 48s\tremaining: 10m 38s\n",
            "53:\tlearn: 0.3222165\ttotal: 5m 54s\tremaining: 10m 29s\n",
            "54:\tlearn: 0.3209323\ttotal: 6m 2s\tremaining: 10m 25s\n",
            "55:\tlearn: 0.3196121\ttotal: 6m 9s\tremaining: 10m 20s\n",
            "56:\tlearn: 0.3178571\ttotal: 6m 17s\tremaining: 10m 15s\n",
            "57:\tlearn: 0.3170971\ttotal: 6m 23s\tremaining: 10m 8s\n",
            "58:\tlearn: 0.3158698\ttotal: 6m 29s\tremaining: 10m\n",
            "59:\tlearn: 0.3155682\ttotal: 6m 36s\tremaining: 9m 54s\n",
            "60:\tlearn: 0.3152290\ttotal: 6m 41s\tremaining: 9m 46s\n",
            "61:\tlearn: 0.3133172\ttotal: 6m 49s\tremaining: 9m 41s\n",
            "62:\tlearn: 0.3124148\ttotal: 6m 55s\tremaining: 9m 33s\n",
            "63:\tlearn: 0.3106454\ttotal: 7m 1s\tremaining: 9m 26s\n",
            "64:\tlearn: 0.3074403\ttotal: 7m 8s\tremaining: 9m 20s\n",
            "65:\tlearn: 0.3060764\ttotal: 7m 14s\tremaining: 9m 12s\n",
            "66:\tlearn: 0.3038870\ttotal: 7m 24s\tremaining: 9m 10s\n",
            "67:\tlearn: 0.3032912\ttotal: 7m 29s\tremaining: 9m 2s\n",
            "68:\tlearn: 0.3025004\ttotal: 7m 36s\tremaining: 8m 55s\n",
            "69:\tlearn: 0.3012903\ttotal: 7m 43s\tremaining: 8m 49s\n",
            "70:\tlearn: 0.2997202\ttotal: 7m 48s\tremaining: 8m 41s\n",
            "71:\tlearn: 0.2982581\ttotal: 7m 56s\tremaining: 8m 36s\n",
            "72:\tlearn: 0.2969277\ttotal: 8m 2s\tremaining: 8m 28s\n",
            "73:\tlearn: 0.2962426\ttotal: 8m 8s\tremaining: 8m 21s\n",
            "74:\tlearn: 0.2934764\ttotal: 8m 15s\tremaining: 8m 15s\n",
            "75:\tlearn: 0.2922985\ttotal: 8m 20s\tremaining: 8m 7s\n",
            "76:\tlearn: 0.2909455\ttotal: 8m 28s\tremaining: 8m 2s\n",
            "77:\tlearn: 0.2893060\ttotal: 8m 40s\tremaining: 8m\n",
            "78:\tlearn: 0.2884201\ttotal: 8m 52s\tremaining: 7m 58s\n",
            "79:\tlearn: 0.2874169\ttotal: 9m 3s\tremaining: 7m 55s\n",
            "80:\tlearn: 0.2861176\ttotal: 9m 8s\tremaining: 7m 47s\n",
            "81:\tlearn: 0.2849804\ttotal: 9m 16s\tremaining: 7m 41s\n",
            "82:\tlearn: 0.2809857\ttotal: 9m 21s\tremaining: 7m 33s\n",
            "83:\tlearn: 0.2799782\ttotal: 9m 28s\tremaining: 7m 26s\n",
            "84:\tlearn: 0.2798339\ttotal: 9m 35s\tremaining: 7m 19s\n",
            "85:\tlearn: 0.2782849\ttotal: 9m 40s\tremaining: 7m 12s\n",
            "86:\tlearn: 0.2764758\ttotal: 9m 48s\tremaining: 7m 6s\n",
            "87:\tlearn: 0.2760860\ttotal: 9m 53s\tremaining: 6m 58s\n",
            "88:\tlearn: 0.2747660\ttotal: 10m\tremaining: 6m 51s\n",
            "89:\tlearn: 0.2736879\ttotal: 10m 11s\tremaining: 6m 47s\n",
            "90:\tlearn: 0.2725698\ttotal: 10m 23s\tremaining: 6m 44s\n",
            "91:\tlearn: 0.2721896\ttotal: 10m 29s\tremaining: 6m 36s\n",
            "92:\tlearn: 0.2719241\ttotal: 10m 38s\tremaining: 6m 31s\n",
            "93:\tlearn: 0.2713683\ttotal: 10m 46s\tremaining: 6m 24s\n",
            "94:\tlearn: 0.2710075\ttotal: 10m 54s\tremaining: 6m 18s\n",
            "95:\tlearn: 0.2702166\ttotal: 10m 59s\tremaining: 6m 11s\n",
            "96:\tlearn: 0.2698663\ttotal: 11m 7s\tremaining: 6m 4s\n",
            "97:\tlearn: 0.2689471\ttotal: 11m 13s\tremaining: 5m 57s\n",
            "98:\tlearn: 0.2681291\ttotal: 11m 18s\tremaining: 5m 49s\n",
            "99:\tlearn: 0.2666690\ttotal: 11m 26s\tremaining: 5m 43s\n",
            "100:\tlearn: 0.2659924\ttotal: 11m 31s\tremaining: 5m 35s\n",
            "101:\tlearn: 0.2652916\ttotal: 11m 39s\tremaining: 5m 29s\n",
            "102:\tlearn: 0.2631553\ttotal: 11m 45s\tremaining: 5m 21s\n",
            "103:\tlearn: 0.2617343\ttotal: 11m 50s\tremaining: 5m 14s\n",
            "104:\tlearn: 0.2609723\ttotal: 11m 58s\tremaining: 5m 7s\n",
            "105:\tlearn: 0.2600951\ttotal: 12m 4s\tremaining: 5m\n",
            "106:\tlearn: 0.2592907\ttotal: 12m 11s\tremaining: 4m 54s\n",
            "107:\tlearn: 0.2586939\ttotal: 12m 17s\tremaining: 4m 46s\n",
            "108:\tlearn: 0.2585532\ttotal: 12m 23s\tremaining: 4m 39s\n",
            "109:\tlearn: 0.2576885\ttotal: 12m 30s\tremaining: 4m 32s\n",
            "110:\tlearn: 0.2574279\ttotal: 12m 35s\tremaining: 4m 25s\n",
            "111:\tlearn: 0.2557472\ttotal: 12m 43s\tremaining: 4m 19s\n",
            "112:\tlearn: 0.2551053\ttotal: 12m 49s\tremaining: 4m 11s\n",
            "113:\tlearn: 0.2543724\ttotal: 12m 55s\tremaining: 4m 4s\n",
            "114:\tlearn: 0.2529838\ttotal: 13m 2s\tremaining: 3m 58s\n",
            "115:\tlearn: 0.2515488\ttotal: 13m 8s\tremaining: 3m 51s\n",
            "116:\tlearn: 0.2510854\ttotal: 13m 16s\tremaining: 3m 44s\n",
            "117:\tlearn: 0.2505057\ttotal: 13m 21s\tremaining: 3m 37s\n",
            "118:\tlearn: 0.2499995\ttotal: 13m 28s\tremaining: 3m 30s\n",
            "119:\tlearn: 0.2493255\ttotal: 13m 35s\tremaining: 3m 23s\n",
            "120:\tlearn: 0.2487190\ttotal: 13m 40s\tremaining: 3m 16s\n",
            "121:\tlearn: 0.2478125\ttotal: 13m 48s\tremaining: 3m 10s\n",
            "122:\tlearn: 0.2475039\ttotal: 13m 53s\tremaining: 3m 3s\n",
            "123:\tlearn: 0.2471066\ttotal: 14m\tremaining: 2m 56s\n",
            "124:\tlearn: 0.2460723\ttotal: 14m 9s\tremaining: 2m 49s\n",
            "125:\tlearn: 0.2455101\ttotal: 14m 15s\tremaining: 2m 43s\n",
            "126:\tlearn: 0.2450512\ttotal: 14m 22s\tremaining: 2m 36s\n",
            "127:\tlearn: 0.2438849\ttotal: 14m 28s\tremaining: 2m 29s\n",
            "128:\tlearn: 0.2430759\ttotal: 14m 35s\tremaining: 2m 22s\n",
            "129:\tlearn: 0.2422709\ttotal: 14m 41s\tremaining: 2m 15s\n",
            "130:\tlearn: 0.2420842\ttotal: 14m 47s\tremaining: 2m 8s\n",
            "131:\tlearn: 0.2417978\ttotal: 14m 54s\tremaining: 2m 2s\n",
            "132:\tlearn: 0.2404281\ttotal: 15m\tremaining: 1m 55s\n",
            "133:\tlearn: 0.2394379\ttotal: 15m 8s\tremaining: 1m 48s\n",
            "134:\tlearn: 0.2391284\ttotal: 15m 13s\tremaining: 1m 41s\n",
            "135:\tlearn: 0.2386228\ttotal: 15m 20s\tremaining: 1m 34s\n",
            "136:\tlearn: 0.2374439\ttotal: 15m 26s\tremaining: 1m 27s\n",
            "137:\tlearn: 0.2365210\ttotal: 15m 32s\tremaining: 1m 21s\n",
            "138:\tlearn: 0.2361940\ttotal: 15m 40s\tremaining: 1m 14s\n",
            "139:\tlearn: 0.2359418\ttotal: 15m 45s\tremaining: 1m 7s\n",
            "140:\tlearn: 0.2352122\ttotal: 15m 52s\tremaining: 1m\n",
            "141:\tlearn: 0.2346932\ttotal: 15m 58s\tremaining: 54s\n",
            "142:\tlearn: 0.2341592\ttotal: 16m 4s\tremaining: 47.2s\n",
            "143:\tlearn: 0.2335312\ttotal: 16m 12s\tremaining: 40.5s\n",
            "144:\tlearn: 0.2334572\ttotal: 16m 17s\tremaining: 33.7s\n",
            "145:\tlearn: 0.2320850\ttotal: 16m 24s\tremaining: 27s\n",
            "146:\tlearn: 0.2316217\ttotal: 16m 30s\tremaining: 20.2s\n",
            "147:\tlearn: 0.2306837\ttotal: 16m 36s\tremaining: 13.5s\n",
            "148:\tlearn: 0.2300361\ttotal: 16m 43s\tremaining: 6.74s\n",
            "149:\tlearn: 0.2294927\ttotal: 16m 49s\tremaining: 0us\n",
            "beas_accuracy:0.873\n"
          ]
        }
      ]
    }
  ]
}